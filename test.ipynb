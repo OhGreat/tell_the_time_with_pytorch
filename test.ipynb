{
 "cells": [
  {
   "cell_type": "code",
   "execution_count": 1,
   "metadata": {},
   "outputs": [],
   "source": [
    "import numpy as np\n",
    "import torch\n",
    "from torch import nn\n",
    "from torch.utils.data import Dataset, DataLoader, random_split\n",
    "import time\n",
    "import random\n",
    "from PIL import Image\n",
    "import matplotlib.pyplot as plt"
   ]
  },
  {
   "cell_type": "code",
   "execution_count": 2,
   "metadata": {},
   "outputs": [
    {
     "name": "stdout",
     "output_type": "stream",
     "text": [
      "cuda\n"
     ]
    }
   ],
   "source": [
    "device = \"cuda\" if torch.cuda.is_available() else \"cpu\"\n",
    "print(device)"
   ]
  },
  {
   "cell_type": "markdown",
   "metadata": {},
   "source": [
    "<h3>Dataset creation</h3>"
   ]
  },
  {
   "cell_type": "code",
   "execution_count": 3,
   "metadata": {},
   "outputs": [
    {
     "name": "stdout",
     "output_type": "stream",
     "text": [
      "data: torch.Size([18000, 1, 150, 150]), labels: torch.Size([18000, 2])\n"
     ]
    }
   ],
   "source": [
    "data = np.load(\"data/images.npy\")/255.\n",
    "data = torch.FloatTensor(np.expand_dims(data,axis=1))\n",
    "data_permuts = torch.randperm(data.shape[0])\n",
    "data = data[data_permuts,:]\n",
    "labels = torch.FloatTensor(np.load(\"data/labels.npy\"))\n",
    "\n",
    "print(f\"data: {data.shape}, labels: {labels.shape}\")"
   ]
  },
  {
   "cell_type": "code",
   "execution_count": 4,
   "metadata": {},
   "outputs": [],
   "source": [
    "class ClockDataset(Dataset):\n",
    "    def __init__(self, data, targets):\n",
    "        self.data = data\n",
    "        self.targets = targets\n",
    "\n",
    "    def __getitem__(self, index):\n",
    "        x = self.data[index]\n",
    "        y = self.targets[index]\n",
    "        return x, y\n",
    "    \n",
    "    def __len__(self):\n",
    "        return len(self.data)"
   ]
  },
  {
   "cell_type": "code",
   "execution_count": 5,
   "metadata": {},
   "outputs": [],
   "source": [
    "# Create main dataset\n",
    "clock_dataset = ClockDataset(data, labels)\n",
    "train_data, test_data, val_data = random_split(clock_dataset, [14000,3000,1000])\n",
    "\n",
    "# Split dataset into train, test and validation sets\n",
    "train_data = DataLoader(train_data, batch_size=32, shuffle=True)\n",
    "test_data = DataLoader(test_data, batch_size=32, shuffle=True)\n",
    "val_data = DataLoader(val_data, batch_size=32, shuffle=True)"
   ]
  },
  {
   "cell_type": "code",
   "execution_count": 6,
   "metadata": {},
   "outputs": [
    {
     "name": "stdout",
     "output_type": "stream",
     "text": [
      "Shape of X [N, C, H, W]: torch.Size([32, 1, 150, 150])\n",
      "Shape of y: torch.Size([32, 2]) torch.float32\n"
     ]
    }
   ],
   "source": [
    "for X, y in train_data:\n",
    "    print(f\"Shape of X [N, C, H, W]: {X.shape}\")\n",
    "    print(f\"Shape of y: {y.shape} {y.dtype}\")\n",
    "    break"
   ]
  },
  {
   "cell_type": "code",
   "execution_count": 7,
   "metadata": {},
   "outputs": [],
   "source": [
    "class NN_regression(nn.Module):\n",
    "    \"\"\" Convolution model that returns one value as output.\n",
    "    \"\"\"\n",
    "    def __init__(self, input_channels, h, w, n_outputs):\n",
    "        super(NN_regression, self).__init__()\n",
    "\n",
    "        self.input_layer = nn.Sequential(\n",
    "            nn.Conv2d(input_channels, 16, kernel_size=5),\n",
    "            nn.MaxPool2d(3)\n",
    "        )\n",
    "        self.hidden_layers = nn.Sequential(\n",
    "            nn.Conv2d(16, 32, kernel_size=3, stride=5),\n",
    "            nn.ReLU(),\n",
    "            nn.MaxPool2d(2),\n",
    "\n",
    "            nn.Conv2d(32, 64, kernel_size=2),\n",
    "            nn.ReLU(),\n",
    "            nn.MaxPool2d(2),            \n",
    "\n",
    "            nn.Conv2d(64, 128, kernel_size=2),\n",
    "            nn.ReLU(),\n",
    "            nn.Dropout(0.3),\n",
    "            nn.Flatten()\n",
    "        )\n",
    "\n",
    "\n",
    "        self.output_layer = nn.Sequential(\n",
    "            nn.Linear(128, 512),\n",
    "            nn.ReLU(),\n",
    "            nn.Linear(512, 256),\n",
    "            nn.ReLU(),\n",
    "            nn.Linear(256, n_outputs)\n",
    "            \n",
    "        )\n",
    "\n",
    "\n",
    "    def forward(self, x):\n",
    "        x = self.input_layer(x)\n",
    "        x = self.hidden_layers(x)\n",
    "        x = self.output_layer(x)\n",
    "        return x\n"
   ]
  },
  {
   "cell_type": "markdown",
   "metadata": {},
   "source": [
    "<h3>Creating loss function</h3>"
   ]
  },
  {
   "cell_type": "code",
   "execution_count": 8,
   "metadata": {},
   "outputs": [],
   "source": [
    "def common_sense_loss(prediction, target):\n",
    "    \"\"\" Defines the common sense error in minutes.\n",
    "    \"\"\"\n",
    "\n",
    "    # hour common sense error in minutes\n",
    "    hour_start_idx = torch.minimum(prediction[0], target[0])\n",
    "    hour_end_idx = torch.maximum(prediction[0], target[0])\n",
    "    hour_dist_mins = (hour_end_idx - hour_start_idx)*60\n",
    "\n",
    "    # minutes common sense error\n",
    "    min_start_idx = torch.minimum(prediction[1], target[1])\n",
    "    min_end_idx = torch.maximum(prediction[1], target[1])\n",
    "    mins_dist_mins = (min_end_idx - min_start_idx)\n",
    "\n",
    "    # return total common sense error in minutes\n",
    "    return torch.mean(hour_dist_mins + mins_dist_mins)\n",
    "\n",
    "a = torch.Tensor([[1,4,2,3],[14,28,36,1]])\n",
    "b = torch.Tensor([[1,3,2,4],[15,29,36,1]])\n"
   ]
  },
  {
   "cell_type": "code",
   "execution_count": 9,
   "metadata": {},
   "outputs": [
    {
     "data": {
      "text/plain": [
       "tensor(30.5000)"
      ]
     },
     "execution_count": 9,
     "metadata": {},
     "output_type": "execute_result"
    }
   ],
   "source": [
    "class CommonSenseError(nn.Module):\n",
    "    def __init__(self):\n",
    "        super(CommonSenseError, self).__init__()\n",
    "\n",
    "    def forward(self, prediction, target):\n",
    "        # hour common sense error in minutes\n",
    "        hour_start_idx = torch.minimum(prediction[0], target[0])\n",
    "        hour_end_idx = torch.maximum(prediction[0], target[0])\n",
    "        hour_dist_mins = (hour_end_idx - hour_start_idx)*60\n",
    "\n",
    "        # minutes common sense error\n",
    "        min_start_idx = torch.minimum(prediction[1], target[1])\n",
    "        min_end_idx = torch.maximum(prediction[1], target[1])\n",
    "        mins_dist_mins = (min_end_idx - min_start_idx)\n",
    "\n",
    "        # return total common sense error in minutes\n",
    "        return torch.mean(hour_dist_mins + mins_dist_mins)\n",
    "\n",
    "cse = CommonSenseError()\n",
    "cse.forward(a,b)"
   ]
  },
  {
   "cell_type": "code",
   "execution_count": 10,
   "metadata": {},
   "outputs": [],
   "source": [
    "model = NN_regression(input_channels=1,h=150,w=150, n_outputs=2).to(device)\n",
    "loss = CommonSenseError()\n",
    "optimizer = torch.optim.Adam(model.parameters(), lr=1e-4)"
   ]
  },
  {
   "cell_type": "code",
   "execution_count": 11,
   "metadata": {},
   "outputs": [],
   "source": [
    "def train(dataloader, model, loss, optimizer):\n",
    "    model.train()\n",
    "    for X, y in dataloader:\n",
    "        X, y = X.to(device), y.to(device)\n",
    "        \n",
    "        # Compute prediction error\n",
    "        pred = model(X)\n",
    "        loss = common_sense_loss(pred, y)\n",
    "\n",
    "        # Backpropagation\n",
    "        optimizer.zero_grad()\n",
    "        loss.backward()\n",
    "        optimizer.step()\n",
    "\n",
    "    print(f\"Train loss: {loss:>7f}\")"
   ]
  },
  {
   "cell_type": "code",
   "execution_count": 12,
   "metadata": {},
   "outputs": [],
   "source": [
    "def test(dataloader, model, loss_fn):\n",
    "    model.eval()\n",
    "    num_batches = len(dataloader)\n",
    "    test_loss = 0.0\n",
    "    with torch.no_grad():\n",
    "        for X, y in dataloader:\n",
    "            X, y = X.to(device), y.to(device)\n",
    "            pred = model(X)\n",
    "            loss = loss_fn(pred, y)\n",
    "            test_loss += loss\n",
    "    print(f\"Test avg loss: {test_loss:>8f} \\n\")"
   ]
  },
  {
   "cell_type": "code",
   "execution_count": 13,
   "metadata": {},
   "outputs": [
    {
     "name": "stdout",
     "output_type": "stream",
     "text": [
      "Epoch 1\n",
      "-------------------------------\n",
      "Train loss: 547.709351\n",
      "Test avg loss: 55598.804688 \n",
      "\n",
      "Epoch 2\n",
      "-------------------------------\n",
      "Train loss: 303.333801\n",
      "Test avg loss: 49265.222656 \n",
      "\n",
      "Epoch 3\n",
      "-------------------------------\n",
      "Train loss: 423.542511\n",
      "Test avg loss: 52877.347656 \n",
      "\n",
      "Epoch 4\n",
      "-------------------------------\n",
      "Train loss: 517.379517\n",
      "Test avg loss: 49218.570312 \n",
      "\n",
      "Epoch 5\n",
      "-------------------------------\n",
      "Train loss: 447.824951\n",
      "Test avg loss: 52592.683594 \n",
      "\n",
      "Epoch 6\n",
      "-------------------------------\n",
      "Train loss: 589.566895\n",
      "Test avg loss: 47754.328125 \n",
      "\n",
      "Epoch 7\n",
      "-------------------------------\n",
      "Train loss: 383.965515\n",
      "Test avg loss: 52759.492188 \n",
      "\n",
      "Epoch 8\n",
      "-------------------------------\n",
      "Train loss: 574.587036\n",
      "Test avg loss: 52173.218750 \n",
      "\n",
      "Epoch 9\n",
      "-------------------------------\n",
      "Train loss: 522.422791\n",
      "Test avg loss: 51929.664062 \n",
      "\n",
      "Epoch 10\n",
      "-------------------------------\n",
      "Train loss: 412.988647\n",
      "Test avg loss: 53907.339844 \n",
      "\n",
      "Epoch 11\n",
      "-------------------------------\n",
      "Train loss: 1299.588379\n",
      "Test avg loss: 55124.660156 \n",
      "\n",
      "Epoch 12\n",
      "-------------------------------\n",
      "Train loss: 817.954529\n",
      "Test avg loss: 52953.691406 \n",
      "\n",
      "Epoch 13\n",
      "-------------------------------\n",
      "Train loss: 395.214294\n",
      "Test avg loss: 50638.246094 \n",
      "\n",
      "Epoch 14\n",
      "-------------------------------\n",
      "Train loss: 855.226257\n",
      "Test avg loss: 52965.691406 \n",
      "\n",
      "Epoch 15\n",
      "-------------------------------\n",
      "Train loss: 1076.380249\n",
      "Test avg loss: 60036.574219 \n",
      "\n",
      "Epoch 16\n",
      "-------------------------------\n",
      "Train loss: 692.599365\n",
      "Test avg loss: 56348.902344 \n",
      "\n",
      "Epoch 17\n",
      "-------------------------------\n",
      "Train loss: 654.395874\n",
      "Test avg loss: 50703.425781 \n",
      "\n",
      "Epoch 18\n",
      "-------------------------------\n",
      "Train loss: 258.652222\n",
      "Test avg loss: 54569.539062 \n",
      "\n",
      "Epoch 19\n",
      "-------------------------------\n",
      "Train loss: 532.373596\n",
      "Test avg loss: 56226.519531 \n",
      "\n",
      "Epoch 20\n",
      "-------------------------------\n",
      "Train loss: 278.910400\n",
      "Test avg loss: 48816.949219 \n",
      "\n",
      "Epoch 21\n",
      "-------------------------------\n",
      "Train loss: 425.464355\n",
      "Test avg loss: 50222.410156 \n",
      "\n",
      "Epoch 22\n",
      "-------------------------------\n",
      "Train loss: 749.961548\n",
      "Test avg loss: 56040.109375 \n",
      "\n",
      "Epoch 23\n",
      "-------------------------------\n",
      "Train loss: 675.438538\n",
      "Test avg loss: 47489.582031 \n",
      "\n",
      "Epoch 24\n",
      "-------------------------------\n",
      "Train loss: 774.771118\n",
      "Test avg loss: 48324.800781 \n",
      "\n",
      "Epoch 25\n",
      "-------------------------------\n",
      "Train loss: 553.528809\n",
      "Test avg loss: 55155.121094 \n",
      "\n",
      "Epoch 26\n",
      "-------------------------------\n",
      "Train loss: 452.129211\n",
      "Test avg loss: 46980.257812 \n",
      "\n",
      "Epoch 27\n",
      "-------------------------------\n",
      "Train loss: 881.737854\n",
      "Test avg loss: 56001.898438 \n",
      "\n",
      "Epoch 28\n",
      "-------------------------------\n",
      "Train loss: 323.049072\n",
      "Test avg loss: 54364.957031 \n",
      "\n",
      "Epoch 29\n",
      "-------------------------------\n",
      "Train loss: 179.282944\n",
      "Test avg loss: 51718.042969 \n",
      "\n",
      "Epoch 30\n",
      "-------------------------------\n",
      "Train loss: 203.678833\n",
      "Test avg loss: 49255.300781 \n",
      "\n",
      "Epoch 31\n",
      "-------------------------------\n",
      "Train loss: 615.105530\n",
      "Test avg loss: 51095.507812 \n",
      "\n",
      "Epoch 32\n",
      "-------------------------------\n",
      "Train loss: 440.993774\n",
      "Test avg loss: 50118.906250 \n",
      "\n",
      "Epoch 33\n",
      "-------------------------------\n",
      "Train loss: 453.577911\n",
      "Test avg loss: 47279.878906 \n",
      "\n",
      "Epoch 34\n",
      "-------------------------------\n",
      "Train loss: 471.020782\n",
      "Test avg loss: 54353.406250 \n",
      "\n",
      "Epoch 35\n",
      "-------------------------------\n",
      "Train loss: 866.223328\n",
      "Test avg loss: 54397.296875 \n",
      "\n",
      "Epoch 36\n",
      "-------------------------------\n",
      "Train loss: 82.891335\n",
      "Test avg loss: 49744.488281 \n",
      "\n",
      "Epoch 37\n",
      "-------------------------------\n",
      "Train loss: 386.264709\n",
      "Test avg loss: 49124.515625 \n",
      "\n",
      "Epoch 38\n",
      "-------------------------------\n",
      "Train loss: 508.560760\n",
      "Test avg loss: 56136.593750 \n",
      "\n",
      "Epoch 39\n",
      "-------------------------------\n",
      "Train loss: 642.036316\n",
      "Test avg loss: 52969.527344 \n",
      "\n",
      "Epoch 40\n",
      "-------------------------------\n",
      "Train loss: 301.747925\n",
      "Test avg loss: 53091.707031 \n",
      "\n",
      "Epoch 41\n",
      "-------------------------------\n",
      "Train loss: 647.152161\n",
      "Test avg loss: 54370.687500 \n",
      "\n",
      "Epoch 42\n",
      "-------------------------------\n",
      "Train loss: 633.906494\n",
      "Test avg loss: 55391.855469 \n",
      "\n",
      "Epoch 43\n",
      "-------------------------------\n",
      "Train loss: 1007.152100\n",
      "Test avg loss: 50254.242188 \n",
      "\n",
      "Epoch 44\n",
      "-------------------------------\n",
      "Train loss: 976.794556\n",
      "Test avg loss: 53542.343750 \n",
      "\n",
      "Epoch 45\n",
      "-------------------------------\n"
     ]
    },
    {
     "ename": "KeyboardInterrupt",
     "evalue": "",
     "output_type": "error",
     "traceback": [
      "\u001b[0;31m---------------------------------------------------------------------------\u001b[0m",
      "\u001b[0;31mKeyboardInterrupt\u001b[0m                         Traceback (most recent call last)",
      "\u001b[1;32m/home/dimi/Workdir/tell_the_time_NN/test.ipynb Cell 15'\u001b[0m in \u001b[0;36m<cell line: 3>\u001b[0;34m()\u001b[0m\n\u001b[1;32m      <a href='vscode-notebook-cell:/home/dimi/Workdir/tell_the_time_NN/test.ipynb#ch0000015?line=2'>3</a>\u001b[0m \u001b[39mfor\u001b[39;00m t \u001b[39min\u001b[39;00m \u001b[39mrange\u001b[39m(epochs):\n\u001b[1;32m      <a href='vscode-notebook-cell:/home/dimi/Workdir/tell_the_time_NN/test.ipynb#ch0000015?line=3'>4</a>\u001b[0m     \u001b[39mprint\u001b[39m(\u001b[39mf\u001b[39m\u001b[39m\"\u001b[39m\u001b[39mEpoch \u001b[39m\u001b[39m{\u001b[39;00mt\u001b[39m+\u001b[39m\u001b[39m1\u001b[39m\u001b[39m}\u001b[39;00m\u001b[39m\\n\u001b[39;00m\u001b[39m-------------------------------\u001b[39m\u001b[39m\"\u001b[39m)\n\u001b[0;32m----> <a href='vscode-notebook-cell:/home/dimi/Workdir/tell_the_time_NN/test.ipynb#ch0000015?line=4'>5</a>\u001b[0m     train(train_data, model, loss, optimizer)\n\u001b[1;32m      <a href='vscode-notebook-cell:/home/dimi/Workdir/tell_the_time_NN/test.ipynb#ch0000015?line=5'>6</a>\u001b[0m     test(test_data, model, loss)\n\u001b[1;32m      <a href='vscode-notebook-cell:/home/dimi/Workdir/tell_the_time_NN/test.ipynb#ch0000015?line=6'>7</a>\u001b[0m end_time \u001b[39m=\u001b[39m time\u001b[39m.\u001b[39mtime()\n",
      "\u001b[1;32m/home/dimi/Workdir/tell_the_time_NN/test.ipynb Cell 13'\u001b[0m in \u001b[0;36mtrain\u001b[0;34m(dataloader, model, loss, optimizer)\u001b[0m\n\u001b[1;32m      <a href='vscode-notebook-cell:/home/dimi/Workdir/tell_the_time_NN/test.ipynb#ch0000013?line=1'>2</a>\u001b[0m model\u001b[39m.\u001b[39mtrain()\n\u001b[1;32m      <a href='vscode-notebook-cell:/home/dimi/Workdir/tell_the_time_NN/test.ipynb#ch0000013?line=2'>3</a>\u001b[0m \u001b[39mfor\u001b[39;00m X, y \u001b[39min\u001b[39;00m dataloader:\n\u001b[0;32m----> <a href='vscode-notebook-cell:/home/dimi/Workdir/tell_the_time_NN/test.ipynb#ch0000013?line=3'>4</a>\u001b[0m     X, y \u001b[39m=\u001b[39m X\u001b[39m.\u001b[39;49mto(device), y\u001b[39m.\u001b[39mto(device)\n\u001b[1;32m      <a href='vscode-notebook-cell:/home/dimi/Workdir/tell_the_time_NN/test.ipynb#ch0000013?line=5'>6</a>\u001b[0m     \u001b[39m# Compute prediction error\u001b[39;00m\n\u001b[1;32m      <a href='vscode-notebook-cell:/home/dimi/Workdir/tell_the_time_NN/test.ipynb#ch0000013?line=6'>7</a>\u001b[0m     pred \u001b[39m=\u001b[39m model(X)\n",
      "\u001b[0;31mKeyboardInterrupt\u001b[0m: "
     ]
    }
   ],
   "source": [
    "epochs = 50\n",
    "start_time = time.time()\n",
    "for t in range(epochs):\n",
    "    print(f\"Epoch {t+1}\\n-------------------------------\")\n",
    "    train(train_data, model, loss, optimizer)\n",
    "    test(test_data, model, loss)\n",
    "end_time = time.time()"
   ]
  },
  {
   "cell_type": "code",
   "execution_count": null,
   "metadata": {},
   "outputs": [
    {
     "name": "stdout",
     "output_type": "stream",
     "text": [
      "Done in 31.306610345840454\n"
     ]
    }
   ],
   "source": [
    "print(f\"Done in {end_time - start_time}\")"
   ]
  },
  {
   "cell_type": "code",
   "execution_count": null,
   "metadata": {},
   "outputs": [],
   "source": [
    "one = 122.95\n",
    "two = 124.95\n",
    "tree = 84.58\n",
    "four = 84.43"
   ]
  }
 ],
 "metadata": {
  "interpreter": {
   "hash": "3e3d537f7c047eb69d35d93db02503d7f99d5e4e21342e5ae19b3dd47808d68e"
  },
  "kernelspec": {
   "display_name": "Python 3.9.12 ('pytorch')",
   "language": "python",
   "name": "python3"
  },
  "language_info": {
   "codemirror_mode": {
    "name": "ipython",
    "version": 3
   },
   "file_extension": ".py",
   "mimetype": "text/x-python",
   "name": "python",
   "nbconvert_exporter": "python",
   "pygments_lexer": "ipython3",
   "version": "3.9.12"
  },
  "orig_nbformat": 4
 },
 "nbformat": 4,
 "nbformat_minor": 2
}
