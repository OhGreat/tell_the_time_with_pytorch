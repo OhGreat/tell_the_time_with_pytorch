{
 "cells": [
  {
   "cell_type": "code",
   "execution_count": 1,
   "metadata": {},
   "outputs": [],
   "source": [
    "import numpy as np\n",
    "import torch\n",
    "from torch import nn\n",
    "import time\n",
    "from PIL import Image\n",
    "import matplotlib.pyplot as plt"
   ]
  },
  {
   "cell_type": "code",
   "execution_count": 2,
   "metadata": {},
   "outputs": [
    {
     "name": "stdout",
     "output_type": "stream",
     "text": [
      "cuda\n"
     ]
    }
   ],
   "source": [
    "device = \"cuda\" if torch.cuda.is_available() else \"cpu\"\n",
    "print(device)"
   ]
  },
  {
   "cell_type": "markdown",
   "metadata": {},
   "source": [
    "<h3>DAtaset creation</h3>"
   ]
  },
  {
   "cell_type": "code",
   "execution_count": 3,
   "metadata": {},
   "outputs": [
    {
     "name": "stdout",
     "output_type": "stream",
     "text": [
      "data: torch.Size([18000, 1, 150, 150]), labels: torch.Size([18000, 2])\n"
     ]
    }
   ],
   "source": [
    "data = np.load(\"data/images.npy\")\n",
    "labels = torch.FloatTensor(np.load(\"data/labels.npy\")).to(device)\n",
    "\n",
    "data_b = torch.FloatTensor(np.expand_dims(data,axis=1)).to(device)\n",
    "print(f\"data: {data_b.shape}, labels: {labels.shape}\")"
   ]
  },
  {
   "cell_type": "code",
   "execution_count": 4,
   "metadata": {},
   "outputs": [],
   "source": [
    "class ClockDataset(torch.utils.data.Dataset):\n",
    "    def __init__(self, data, targets):\n",
    "        self.data = data\n",
    "        self.targets = targets\n",
    "        \n",
    "    def __getitem__(self, index):\n",
    "        x = self.data[index]\n",
    "        y = self.targets[index]\n",
    "        return x, y\n",
    "    \n",
    "    def __len__(self):\n",
    "        return len(self.data)"
   ]
  },
  {
   "cell_type": "code",
   "execution_count": 5,
   "metadata": {},
   "outputs": [],
   "source": [
    "# Create main dataset\n",
    "clock_dataset = ClockDataset(data_b, labels)\n",
    "train_data, test_data, val_data = torch.utils.data.random_split(clock_dataset, [14000,3000,1000])\n",
    "\n",
    "# Split dataset into train, test and validation sets\n",
    "train_data = torch.utils.data.DataLoader(train_data, batch_size=32, shuffle=True)\n",
    "test_data = torch.utils.data.DataLoader(test_data, batch_size=32, shuffle=True)\n",
    "val_data = torch.utils.data.DataLoader(val_data, batch_size=32, shuffle=True)"
   ]
  },
  {
   "cell_type": "code",
   "execution_count": 6,
   "metadata": {},
   "outputs": [],
   "source": [
    "class NN_regression(nn.Module):\n",
    "    \"\"\" Convolution model that returns one value as output.\n",
    "    \"\"\"\n",
    "    def __init__(self, input_channels, h, w, n_outputs):\n",
    "        super(NN_regression, self).__init__()\n",
    "\n",
    "        self.input_layer = nn.Sequential(\n",
    "            nn.Conv2d(input_channels, 32, kernel_size=5),\n",
    "            nn.MaxPool2d(),\n",
    "        )\n",
    "        self.hidden_layers = nn.Sequential(\n",
    "            nn.Conv2d(32, 64, kernel_size=3, stride=1),\n",
    "            nn.ReLU(),\n",
    "            nn.Conv2d(64, 64, kernel_size=2),\n",
    "            nn.ReLU(),\n",
    "            nn.Conv2d(64, 128, kernel_size=2),\n",
    "            nn.ReLU(),\n",
    "            nn.Flatten()\n",
    "        )\n",
    "\n",
    "\n",
    "        self.output_layer = nn.Sequential(\n",
    "            nn.Linear(304704, 256),\n",
    "            nn.ReLU(),\n",
    "            nn.Linear(256, n_outputs)\n",
    "            \n",
    "        )\n",
    "\n",
    "\n",
    "    def forward(self, x):\n",
    "        x = self.input_layer(x)\n",
    "        x = self.hidden_layers(x)\n",
    "        x = self.output_layer(x)\n",
    "        return x\n"
   ]
  },
  {
   "cell_type": "code",
   "execution_count": 7,
   "metadata": {},
   "outputs": [],
   "source": [
    "model = NN_regression(input_channels=1,h=150,w=150, n_outputs=2).to(device)"
   ]
  },
  {
   "cell_type": "code",
   "execution_count": 8,
   "metadata": {},
   "outputs": [
    {
     "name": "stdout",
     "output_type": "stream",
     "text": [
      "torch.Size([10, 1, 150, 150])\n"
     ]
    },
    {
     "ename": "RuntimeError",
     "evalue": "mat1 and mat2 shapes cannot be multiplied (10x609408 and 304704x256)",
     "output_type": "error",
     "traceback": [
      "\u001b[0;31m---------------------------------------------------------------------------\u001b[0m",
      "\u001b[0;31mRuntimeError\u001b[0m                              Traceback (most recent call last)",
      "\u001b[1;32m/home/dimi/Workdir/tell_the_time_NN/test.ipynb Cell 9'\u001b[0m in \u001b[0;36m<cell line: 4>\u001b[0;34m()\u001b[0m\n\u001b[1;32m      <a href='vscode-notebook-cell://ssh-remote%2Bdimi-server/home/dimi/Workdir/tell_the_time_NN/test.ipynb#ch0000007vscode-remote?line=1'>2</a>\u001b[0m tensor \u001b[39m=\u001b[39m data_b[:\u001b[39m10\u001b[39m]\n\u001b[1;32m      <a href='vscode-notebook-cell://ssh-remote%2Bdimi-server/home/dimi/Workdir/tell_the_time_NN/test.ipynb#ch0000007vscode-remote?line=2'>3</a>\u001b[0m \u001b[39mprint\u001b[39m(tensor\u001b[39m.\u001b[39mshape)\n\u001b[0;32m----> <a href='vscode-notebook-cell://ssh-remote%2Bdimi-server/home/dimi/Workdir/tell_the_time_NN/test.ipynb#ch0000007vscode-remote?line=3'>4</a>\u001b[0m ret \u001b[39m=\u001b[39m model\u001b[39m.\u001b[39;49mforward(tensor)\n\u001b[1;32m      <a href='vscode-notebook-cell://ssh-remote%2Bdimi-server/home/dimi/Workdir/tell_the_time_NN/test.ipynb#ch0000007vscode-remote?line=4'>5</a>\u001b[0m \u001b[39mprint\u001b[39m(ret\u001b[39m.\u001b[39mshape)\n",
      "\u001b[1;32m/home/dimi/Workdir/tell_the_time_NN/test.ipynb Cell 7'\u001b[0m in \u001b[0;36mNN_regression.forward\u001b[0;34m(self, x)\u001b[0m\n\u001b[1;32m     <a href='vscode-notebook-cell://ssh-remote%2Bdimi-server/home/dimi/Workdir/tell_the_time_NN/test.ipynb#ch0000003vscode-remote?line=29'>30</a>\u001b[0m x \u001b[39m=\u001b[39m \u001b[39mself\u001b[39m\u001b[39m.\u001b[39minput_layer(x)\n\u001b[1;32m     <a href='vscode-notebook-cell://ssh-remote%2Bdimi-server/home/dimi/Workdir/tell_the_time_NN/test.ipynb#ch0000003vscode-remote?line=30'>31</a>\u001b[0m x \u001b[39m=\u001b[39m \u001b[39mself\u001b[39m\u001b[39m.\u001b[39mhidden_layers(x)\n\u001b[0;32m---> <a href='vscode-notebook-cell://ssh-remote%2Bdimi-server/home/dimi/Workdir/tell_the_time_NN/test.ipynb#ch0000003vscode-remote?line=31'>32</a>\u001b[0m x \u001b[39m=\u001b[39m \u001b[39mself\u001b[39;49m\u001b[39m.\u001b[39;49moutput_layer(x)\n\u001b[1;32m     <a href='vscode-notebook-cell://ssh-remote%2Bdimi-server/home/dimi/Workdir/tell_the_time_NN/test.ipynb#ch0000003vscode-remote?line=32'>33</a>\u001b[0m \u001b[39mreturn\u001b[39;00m x\n",
      "File \u001b[0;32m~/miniconda3/envs/pytorch/lib/python3.9/site-packages/torch/nn/modules/module.py:1110\u001b[0m, in \u001b[0;36mModule._call_impl\u001b[0;34m(self, *input, **kwargs)\u001b[0m\n\u001b[1;32m   <a href='file:///home/dimi/miniconda3/envs/pytorch/lib/python3.9/site-packages/torch/nn/modules/module.py?line=1105'>1106</a>\u001b[0m \u001b[39m# If we don't have any hooks, we want to skip the rest of the logic in\u001b[39;00m\n\u001b[1;32m   <a href='file:///home/dimi/miniconda3/envs/pytorch/lib/python3.9/site-packages/torch/nn/modules/module.py?line=1106'>1107</a>\u001b[0m \u001b[39m# this function, and just call forward.\u001b[39;00m\n\u001b[1;32m   <a href='file:///home/dimi/miniconda3/envs/pytorch/lib/python3.9/site-packages/torch/nn/modules/module.py?line=1107'>1108</a>\u001b[0m \u001b[39mif\u001b[39;00m \u001b[39mnot\u001b[39;00m (\u001b[39mself\u001b[39m\u001b[39m.\u001b[39m_backward_hooks \u001b[39mor\u001b[39;00m \u001b[39mself\u001b[39m\u001b[39m.\u001b[39m_forward_hooks \u001b[39mor\u001b[39;00m \u001b[39mself\u001b[39m\u001b[39m.\u001b[39m_forward_pre_hooks \u001b[39mor\u001b[39;00m _global_backward_hooks\n\u001b[1;32m   <a href='file:///home/dimi/miniconda3/envs/pytorch/lib/python3.9/site-packages/torch/nn/modules/module.py?line=1108'>1109</a>\u001b[0m         \u001b[39mor\u001b[39;00m _global_forward_hooks \u001b[39mor\u001b[39;00m _global_forward_pre_hooks):\n\u001b[0;32m-> <a href='file:///home/dimi/miniconda3/envs/pytorch/lib/python3.9/site-packages/torch/nn/modules/module.py?line=1109'>1110</a>\u001b[0m     \u001b[39mreturn\u001b[39;00m forward_call(\u001b[39m*\u001b[39;49m\u001b[39minput\u001b[39;49m, \u001b[39m*\u001b[39;49m\u001b[39m*\u001b[39;49mkwargs)\n\u001b[1;32m   <a href='file:///home/dimi/miniconda3/envs/pytorch/lib/python3.9/site-packages/torch/nn/modules/module.py?line=1110'>1111</a>\u001b[0m \u001b[39m# Do not call functions when jit is used\u001b[39;00m\n\u001b[1;32m   <a href='file:///home/dimi/miniconda3/envs/pytorch/lib/python3.9/site-packages/torch/nn/modules/module.py?line=1111'>1112</a>\u001b[0m full_backward_hooks, non_full_backward_hooks \u001b[39m=\u001b[39m [], []\n",
      "File \u001b[0;32m~/miniconda3/envs/pytorch/lib/python3.9/site-packages/torch/nn/modules/container.py:141\u001b[0m, in \u001b[0;36mSequential.forward\u001b[0;34m(self, input)\u001b[0m\n\u001b[1;32m    <a href='file:///home/dimi/miniconda3/envs/pytorch/lib/python3.9/site-packages/torch/nn/modules/container.py?line=138'>139</a>\u001b[0m \u001b[39mdef\u001b[39;00m \u001b[39mforward\u001b[39m(\u001b[39mself\u001b[39m, \u001b[39minput\u001b[39m):\n\u001b[1;32m    <a href='file:///home/dimi/miniconda3/envs/pytorch/lib/python3.9/site-packages/torch/nn/modules/container.py?line=139'>140</a>\u001b[0m     \u001b[39mfor\u001b[39;00m module \u001b[39min\u001b[39;00m \u001b[39mself\u001b[39m:\n\u001b[0;32m--> <a href='file:///home/dimi/miniconda3/envs/pytorch/lib/python3.9/site-packages/torch/nn/modules/container.py?line=140'>141</a>\u001b[0m         \u001b[39minput\u001b[39m \u001b[39m=\u001b[39m module(\u001b[39minput\u001b[39;49m)\n\u001b[1;32m    <a href='file:///home/dimi/miniconda3/envs/pytorch/lib/python3.9/site-packages/torch/nn/modules/container.py?line=141'>142</a>\u001b[0m     \u001b[39mreturn\u001b[39;00m \u001b[39minput\u001b[39m\n",
      "File \u001b[0;32m~/miniconda3/envs/pytorch/lib/python3.9/site-packages/torch/nn/modules/module.py:1110\u001b[0m, in \u001b[0;36mModule._call_impl\u001b[0;34m(self, *input, **kwargs)\u001b[0m\n\u001b[1;32m   <a href='file:///home/dimi/miniconda3/envs/pytorch/lib/python3.9/site-packages/torch/nn/modules/module.py?line=1105'>1106</a>\u001b[0m \u001b[39m# If we don't have any hooks, we want to skip the rest of the logic in\u001b[39;00m\n\u001b[1;32m   <a href='file:///home/dimi/miniconda3/envs/pytorch/lib/python3.9/site-packages/torch/nn/modules/module.py?line=1106'>1107</a>\u001b[0m \u001b[39m# this function, and just call forward.\u001b[39;00m\n\u001b[1;32m   <a href='file:///home/dimi/miniconda3/envs/pytorch/lib/python3.9/site-packages/torch/nn/modules/module.py?line=1107'>1108</a>\u001b[0m \u001b[39mif\u001b[39;00m \u001b[39mnot\u001b[39;00m (\u001b[39mself\u001b[39m\u001b[39m.\u001b[39m_backward_hooks \u001b[39mor\u001b[39;00m \u001b[39mself\u001b[39m\u001b[39m.\u001b[39m_forward_hooks \u001b[39mor\u001b[39;00m \u001b[39mself\u001b[39m\u001b[39m.\u001b[39m_forward_pre_hooks \u001b[39mor\u001b[39;00m _global_backward_hooks\n\u001b[1;32m   <a href='file:///home/dimi/miniconda3/envs/pytorch/lib/python3.9/site-packages/torch/nn/modules/module.py?line=1108'>1109</a>\u001b[0m         \u001b[39mor\u001b[39;00m _global_forward_hooks \u001b[39mor\u001b[39;00m _global_forward_pre_hooks):\n\u001b[0;32m-> <a href='file:///home/dimi/miniconda3/envs/pytorch/lib/python3.9/site-packages/torch/nn/modules/module.py?line=1109'>1110</a>\u001b[0m     \u001b[39mreturn\u001b[39;00m forward_call(\u001b[39m*\u001b[39;49m\u001b[39minput\u001b[39;49m, \u001b[39m*\u001b[39;49m\u001b[39m*\u001b[39;49mkwargs)\n\u001b[1;32m   <a href='file:///home/dimi/miniconda3/envs/pytorch/lib/python3.9/site-packages/torch/nn/modules/module.py?line=1110'>1111</a>\u001b[0m \u001b[39m# Do not call functions when jit is used\u001b[39;00m\n\u001b[1;32m   <a href='file:///home/dimi/miniconda3/envs/pytorch/lib/python3.9/site-packages/torch/nn/modules/module.py?line=1111'>1112</a>\u001b[0m full_backward_hooks, non_full_backward_hooks \u001b[39m=\u001b[39m [], []\n",
      "File \u001b[0;32m~/miniconda3/envs/pytorch/lib/python3.9/site-packages/torch/nn/modules/linear.py:103\u001b[0m, in \u001b[0;36mLinear.forward\u001b[0;34m(self, input)\u001b[0m\n\u001b[1;32m    <a href='file:///home/dimi/miniconda3/envs/pytorch/lib/python3.9/site-packages/torch/nn/modules/linear.py?line=101'>102</a>\u001b[0m \u001b[39mdef\u001b[39;00m \u001b[39mforward\u001b[39m(\u001b[39mself\u001b[39m, \u001b[39minput\u001b[39m: Tensor) \u001b[39m-\u001b[39m\u001b[39m>\u001b[39m Tensor:\n\u001b[0;32m--> <a href='file:///home/dimi/miniconda3/envs/pytorch/lib/python3.9/site-packages/torch/nn/modules/linear.py?line=102'>103</a>\u001b[0m     \u001b[39mreturn\u001b[39;00m F\u001b[39m.\u001b[39;49mlinear(\u001b[39minput\u001b[39;49m, \u001b[39mself\u001b[39;49m\u001b[39m.\u001b[39;49mweight, \u001b[39mself\u001b[39;49m\u001b[39m.\u001b[39;49mbias)\n",
      "\u001b[0;31mRuntimeError\u001b[0m: mat1 and mat2 shapes cannot be multiplied (10x609408 and 304704x256)"
     ]
    }
   ],
   "source": [
    "#print(example.shape)\n",
    "tensor = data_b[:10]\n",
    "print(tensor.shape)\n",
    "ret = model.forward(tensor)\n",
    "print(ret.shape)"
   ]
  },
  {
   "cell_type": "markdown",
   "metadata": {},
   "source": [
    "<h3>Creating loss function</h3>"
   ]
  },
  {
   "cell_type": "code",
   "execution_count": null,
   "metadata": {},
   "outputs": [],
   "source": [
    "def common_sense_loss(prediction, target):\n",
    "    \"\"\" Defines the common sense error in minutes.\n",
    "    \"\"\"\n",
    "\n",
    "    # hour common sense error in minutes\n",
    "    hour_start_idx = torch.minimum(prediction[0], target[0])\n",
    "    hour_end_idx = torch.maximum(prediction[0], target[0])\n",
    "    hour_dist_mins = (hour_end_idx - hour_start_idx)*60\n",
    "\n",
    "    # minutes common sense error\n",
    "    min_start_idx = torch.minimum(prediction[1], target[1])\n",
    "    min_end_idx = torch.maximum(prediction[1], target[1])\n",
    "    mins_dist_mins = (min_end_idx - min_start_idx)\n",
    "\n",
    "    # return total common sense error in minutes\n",
    "    return torch.mean(hour_dist_mins + mins_dist_mins)\n",
    "\n",
    "a = torch.Tensor([[1,4,2,3],[14,28,36,1]])\n",
    "b = torch.Tensor([[1,3,2,4],[15,29,36,1]])\n"
   ]
  },
  {
   "cell_type": "code",
   "execution_count": null,
   "metadata": {},
   "outputs": [],
   "source": [
    "class CommonSenseError(nn.Module):\n",
    "    def __init__(self):\n",
    "        super(CommonSenseError, self).__init__()\n",
    "\n",
    "    def forward(self, prediction, target):\n",
    "        # hour common sense error in minutes\n",
    "        hour_start_idx = torch.minimum(prediction[0], target[0])\n",
    "        hour_end_idx = torch.maximum(prediction[0], target[0])\n",
    "        hour_dist_mins = (hour_end_idx - hour_start_idx)*60\n",
    "\n",
    "        # minutes common sense error\n",
    "        min_start_idx = torch.minimum(prediction[1], target[1])\n",
    "        min_end_idx = torch.maximum(prediction[1], target[1])\n",
    "        mins_dist_mins = (min_end_idx - min_start_idx)\n",
    "\n",
    "        # return total common sense error in minutes\n",
    "        return torch.mean(hour_dist_mins + mins_dist_mins)"
   ]
  },
  {
   "cell_type": "code",
   "execution_count": null,
   "metadata": {},
   "outputs": [],
   "source": [
    "loss = CommonSenseError()\n",
    "optimizer = torch.optim.Adam(model.parameters(), lr=1e-3)"
   ]
  },
  {
   "cell_type": "code",
   "execution_count": null,
   "metadata": {},
   "outputs": [],
   "source": [
    "def train(dataloader, model, loss, optimizer):\n",
    "    model.train()\n",
    "    for (X, y) in enumerate(dataloader):\n",
    "        #X, y = X.to(device), y.to(device)\n",
    "\n",
    "        # Compute prediction error\n",
    "        pred = model(X)\n",
    "        loss = common_sense_loss(pred, y)\n",
    "\n",
    "        # Backpropagation\n",
    "        optimizer.zero_grad()\n",
    "        loss.backward()\n",
    "        optimizer.step()\n",
    "\n",
    "    print(f\"Train loss: {loss:>7f}\")"
   ]
  },
  {
   "cell_type": "code",
   "execution_count": null,
   "metadata": {},
   "outputs": [],
   "source": [
    "def test(dataloader, model, loss_fn):\n",
    "    model.eval()\n",
    "    num_batches = len(dataloader)\n",
    "    test_loss = 0.0\n",
    "    with torch.no_grad():\n",
    "        for X, y in dataloader:\n",
    "            #X, y = X.to(device), y.to(device)\n",
    "            pred = model(X)\n",
    "            loss = loss_fn(pred, y)\n",
    "            test_loss += loss\n",
    "    test_loss /= num_batches\n",
    "    print(f\"Test avg loss: {test_loss:>8f} \\n\")"
   ]
  },
  {
   "cell_type": "code",
   "execution_count": null,
   "metadata": {},
   "outputs": [
    {
     "name": "stdout",
     "output_type": "stream",
     "text": [
      "Epoch 1\n",
      "-------------------------------\n",
      "Train loss: 400.500000\n",
      "Test avg loss: 1078.537231 \n",
      "\n",
      "Epoch 2\n",
      "-------------------------------\n",
      "Train loss: 1074.000000\n",
      "Test avg loss: 954.930847 \n",
      "\n",
      "Epoch 3\n",
      "-------------------------------\n",
      "Train loss: 1118.000000\n",
      "Test avg loss: 996.170166 \n",
      "\n",
      "Epoch 4\n",
      "-------------------------------\n",
      "Train loss: 308.500000\n",
      "Test avg loss: 1078.984009 \n",
      "\n",
      "Epoch 5\n",
      "-------------------------------\n",
      "Train loss: 775.500000\n",
      "Test avg loss: 1125.797852 \n",
      "\n"
     ]
    }
   ],
   "source": [
    "epochs = 5\n",
    "start_time = time.time()\n",
    "for t in range(epochs):\n",
    "    print(f\"Epoch {t+1}\\n-------------------------------\")\n",
    "    train(train_data, model, loss, optimizer)\n",
    "    test(test_data, model, loss)\n",
    "end_time = time.time()"
   ]
  },
  {
   "cell_type": "code",
   "execution_count": null,
   "metadata": {},
   "outputs": [
    {
     "name": "stdout",
     "output_type": "stream",
     "text": [
      "Done in 84.54817366600037\n"
     ]
    }
   ],
   "source": [
    "print(f\"Done in {end_time - start_time}\")"
   ]
  },
  {
   "cell_type": "code",
   "execution_count": null,
   "metadata": {},
   "outputs": [],
   "source": [
    "one = 122.95\n",
    "two = 124.95\n",
    "tree = 84.58\n",
    "four = 84.43"
   ]
  }
 ],
 "metadata": {
  "interpreter": {
   "hash": "3e3d537f7c047eb69d35d93db02503d7f99d5e4e21342e5ae19b3dd47808d68e"
  },
  "kernelspec": {
   "display_name": "Python 3.9.12 ('pytorch')",
   "language": "python",
   "name": "python3"
  },
  "language_info": {
   "codemirror_mode": {
    "name": "ipython",
    "version": 3
   },
   "file_extension": ".py",
   "mimetype": "text/x-python",
   "name": "python",
   "nbconvert_exporter": "python",
   "pygments_lexer": "ipython3",
   "version": "3.9.12"
  },
  "orig_nbformat": 4
 },
 "nbformat": 4,
 "nbformat_minor": 2
}
