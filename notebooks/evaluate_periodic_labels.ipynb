{
 "cells": [
  {
   "cell_type": "code",
   "execution_count": 1,
   "metadata": {},
   "outputs": [],
   "source": [
    "from classes.ClockDataset import *\n",
    "from classes.CommonSenseError import *\n",
    "from classes.Models import *\n",
    "from utilities import *\n",
    "import numpy as np\n",
    "import matplotlib.pyplot as plt\n",
    "from torch.utils.data import DataLoader\n",
    "\n",
    "device = \"cuda\" if torch.cuda.is_available() else \"cpu\"\n",
    "weights_path = 'model_weights/periodic_labels_2'\n",
    "batch_size=64"
   ]
  },
  {
   "cell_type": "markdown",
   "metadata": {},
   "source": [
    "<h4>In this notebook we evaluate the pretrained periodic labelled approach on the whole dataset in order to calculate the 'common sense error' (true distance between predictions and targets)</h4>"
   ]
  },
  {
   "cell_type": "code",
   "execution_count": 2,
   "metadata": {},
   "outputs": [],
   "source": [
    "# load model and loss function\n",
    "model = NN_regression(  input_channels=1,\n",
    "                        h=150,w=150,\n",
    "                        n_outputs=4).to(device)\n",
    "model.load_state_dict(torch.load(weights_path))\n",
    "loss = nn.MSELoss()"
   ]
  },
  {
   "cell_type": "code",
   "execution_count": 3,
   "metadata": {},
   "outputs": [],
   "source": [
    "# load data and create dataset\n",
    "data, labels = load_data()\n",
    "labels = transform_labels(labels)\n",
    "clock_dataset = ClockDataset(data, labels)\n",
    "data_loader = DataLoader(clock_dataset, batch_size=batch_size)"
   ]
  },
  {
   "cell_type": "code",
   "execution_count": 5,
   "metadata": {},
   "outputs": [
    {
     "name": "stdout",
     "output_type": "stream",
     "text": [
      "Avg evaluation loss: 0.003286 \n",
      "\n",
      "Mean error in minutes of predictions: 7.378833293914795\n"
     ]
    }
   ],
   "source": [
    "# make predictions\n",
    "approach = \"periodic_labels\"\n",
    "predictions = predict(data_loader, model, loss, device, approach)\n",
    "true_preds = denormalize_time(predictions)\n",
    "\n",
    "# define common sense error\n",
    "cse = CommonSenseError()\n",
    "cse_error = cse(torch.FloatTensor(true_preds),torch.FloatTensor(labels[:,:2]))\n",
    "\n",
    "print(f\"Mean error in minutes of predictions: {cse_error}\")"
   ]
  },
  {
   "cell_type": "code",
   "execution_count": null,
   "metadata": {},
   "outputs": [],
   "source": []
  }
 ],
 "metadata": {
  "interpreter": {
   "hash": "3e3d537f7c047eb69d35d93db02503d7f99d5e4e21342e5ae19b3dd47808d68e"
  },
  "kernelspec": {
   "display_name": "Python 3.9.12 ('pytorch')",
   "language": "python",
   "name": "python3"
  },
  "language_info": {
   "codemirror_mode": {
    "name": "ipython",
    "version": 3
   },
   "file_extension": ".py",
   "mimetype": "text/x-python",
   "name": "python",
   "nbconvert_exporter": "python",
   "pygments_lexer": "ipython3",
   "version": "3.9.12"
  },
  "orig_nbformat": 4
 },
 "nbformat": 4,
 "nbformat_minor": 2
}
