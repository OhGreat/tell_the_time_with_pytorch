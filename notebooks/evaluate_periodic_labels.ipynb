{
 "cells": [
  {
   "cell_type": "code",
   "execution_count": 1,
   "metadata": {},
   "outputs": [],
   "source": [
    "import sys\n",
    "sys.path.append('..')\n",
    "sys.path.append('../classes/')\n",
    "sys.path.append('../data/')\n",
    "sys.path.append('../model_weights/')\n",
    "\n",
    "from classes.ClockDataset import *\n",
    "from classes.MinutesDistance import *\n",
    "from classes.Models import *\n",
    "from utilities import *\n",
    "import numpy as np\n",
    "import matplotlib.pyplot as plt\n",
    "from torch.utils.data import DataLoader\n",
    "\n",
    "device = \"cuda\" if torch.cuda.is_available() else \"cpu\"\n",
    "weights_path = '../model_weights/periodic'\n",
    "batch_size=64"
   ]
  },
  {
   "cell_type": "markdown",
   "metadata": {},
   "source": [
    "<h4>In this notebook we evaluate the pretrained periodic labelled approach on the whole dataset in order to calculate the 'common sense error' (true distance between predictions and targets)</h4>"
   ]
  },
  {
   "cell_type": "code",
   "execution_count": 2,
   "metadata": {},
   "outputs": [],
   "source": [
    "# load model and loss function\n",
    "model = NN_regression_2(  input_channels=1,\n",
    "                        h=150,w=150,\n",
    "                        n_outputs=4).to(device)\n",
    "model.load_state_dict(torch.load(weights_path))\n",
    "loss = nn.MSELoss()"
   ]
  },
  {
   "cell_type": "code",
   "execution_count": 3,
   "metadata": {},
   "outputs": [],
   "source": [
    "# load data and create dataset\n",
    "data, labels = load_data('../data')\n",
    "labels = transform_labels(labels)\n",
    "clock_dataset = ClockDataset(data, labels, transform=False)\n",
    "data_loader = DataLoader(clock_dataset, batch_size=batch_size)"
   ]
  },
  {
   "cell_type": "code",
   "execution_count": 4,
   "metadata": {},
   "outputs": [
    {
     "name": "stdout",
     "output_type": "stream",
     "text": [
      "Avg evaluation loss of best weights: 0.007614 \n",
      "\n",
      "torch.Size([18000, 2])\n",
      "Mean error in minutes of predictions for the whole dataset: 8.205389022827148\n"
     ]
    }
   ],
   "source": [
    "# make predictions\n",
    "approach = \"periodic_labels\"\n",
    "predictions = predict(data_loader, model, loss, device, approach)\n",
    "#true_preds = denormalize_time(predictions)\n",
    "print(predictions.shape)\n",
    "# define common sense error\n",
    "mins_dist = MinutesDistance()\n",
    "mins_dist_error = mins_dist.minutes_loss(torch.FloatTensor(predictions),torch.FloatTensor(labels[:,:2]))\n",
    "\n",
    "print(f\"Mean error in minutes of predictions for the whole dataset: {mins_dist_error}\")"
   ]
  },
  {
   "cell_type": "code",
   "execution_count": null,
   "metadata": {},
   "outputs": [],
   "source": []
  }
 ],
 "metadata": {
  "interpreter": {
   "hash": "3e3d537f7c047eb69d35d93db02503d7f99d5e4e21342e5ae19b3dd47808d68e"
  },
  "kernelspec": {
   "display_name": "Python 3.9.12 ('pytorch')",
   "language": "python",
   "name": "python3"
  },
  "language_info": {
   "codemirror_mode": {
    "name": "ipython",
    "version": 3
   },
   "file_extension": ".py",
   "mimetype": "text/x-python",
   "name": "python",
   "nbconvert_exporter": "python",
   "pygments_lexer": "ipython3",
   "version": "3.9.12"
  },
  "orig_nbformat": 4
 },
 "nbformat": 4,
 "nbformat_minor": 2
}
