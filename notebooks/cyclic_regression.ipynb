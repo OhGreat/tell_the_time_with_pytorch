{
 "cells": [
  {
   "cell_type": "code",
   "execution_count": 1,
   "metadata": {},
   "outputs": [
    {
     "name": "stdout",
     "output_type": "stream",
     "text": [
      "cuda\n"
     ]
    }
   ],
   "source": [
    "import numpy as np\n",
    "import torch\n",
    "from torch import nn\n",
    "from torch.utils.data import Dataset, DataLoader, random_split\n",
    "import time\n",
    "import math\n",
    "import random\n",
    "from PIL import Image\n",
    "import matplotlib.pyplot as plt\n",
    "import pandas as pd\n",
    "\n",
    "device = \"cuda\" if torch.cuda.is_available() else \"cpu\"\n",
    "print(device)"
   ]
  },
  {
   "cell_type": "code",
   "execution_count": 2,
   "metadata": {},
   "outputs": [
    {
     "name": "stdout",
     "output_type": "stream",
     "text": [
      "data: torch.Size([18000, 1, 150, 150]), labels: torch.Size([18000, 2])\n"
     ]
    }
   ],
   "source": [
    "# Load data\n",
    "\"\"\"data = np.load(\"../data/data_1.npy\")\n",
    "labels = np.load(\"../data/labels_1.npy\")\n",
    "\n",
    "data = np.vstack((data,np.load(\"../data/data_2.npy\")))\n",
    "labels = np.vstack((labels,np.load(\"../data/labels_2.npy\")))\n",
    "\n",
    "data = np.vstack((data,np.load(\"../data/data_3.npy\")))\n",
    "labels = np.vstack((labels,np.load(\"../data/labels_3.npy\")))\n",
    "\n",
    "data = np.vstack((data,np.load(\"../data/data_4.npy\")))\n",
    "labels = np.vstack((labels,np.load(\"../data/labels_4.npy\")))\n",
    "\n",
    "data = np.vstack((data,np.load(\"../data/data_5.npy\")))\n",
    "labels = np.vstack((labels,np.load(\"../data/labels_5.npy\")))\n",
    "\"\"\"\n",
    "data = np.load(\"../data/images.npy\")\n",
    "data = torch.FloatTensor(np.expand_dims(data,axis=1))/255.\n",
    "data_permuts = torch.randperm(data.shape[0])\n",
    "data = data[data_permuts,:]\n",
    "labels = torch.FloatTensor(np.load(\"../data/labels.npy\"))\n",
    "labels = labels[data_permuts,:]\n",
    "\n",
    "print(f\"data: {data.shape}, labels: {labels.shape}\")"
   ]
  },
  {
   "cell_type": "markdown",
   "metadata": {},
   "source": [
    "<br/>\n",
    "<h3>Labels transformation to cyclical</h3>"
   ]
  },
  {
   "cell_type": "code",
   "execution_count": 3,
   "metadata": {},
   "outputs": [],
   "source": [
    "#we will use a dataframe to change the labels since it is more convenient.\n",
    "labels_df = pd.DataFrame(labels,columns=['hour', 'minute'])\n",
    "labels_df['h_cos'] = np.cos(2 * np.pi * labels_df[\"hour\"] / labels_df[\"hour\"].max())\n",
    "labels_df['h_sin'] = np.sin(2 * np.pi * labels_df[\"hour\"] / labels_df[\"hour\"].max())\n",
    "labels_df['m_cos'] = np.cos(2 * np.pi * labels_df[\"minute\"] / labels_df[\"minute\"].max())\n",
    "labels_df['m_sin'] = np.sin(2 * np.pi * labels_df[\"minute\"] / labels_df[\"minute\"].max())\n",
    "\n",
    "labels_cycl = torch.FloatTensor(labels_df.to_numpy())"
   ]
  },
  {
   "cell_type": "markdown",
   "metadata": {},
   "source": [
    "<br/>\n",
    "<h3>Dataset creation</h3>"
   ]
  },
  {
   "cell_type": "code",
   "execution_count": 4,
   "metadata": {},
   "outputs": [],
   "source": [
    "class ClockDataset(Dataset):\n",
    "    \"\"\" Class used to create the pytorch DataLoaders.\n",
    "    \"\"\"\n",
    "    def __init__(self, data, targets):\n",
    "        self.data = data\n",
    "        self.targets = targets\n",
    "\n",
    "    def __getitem__(self, index):\n",
    "        x = self.data[index]\n",
    "        y = self.targets[index]\n",
    "        return x, y\n",
    "    \n",
    "    def __len__(self):\n",
    "        return len(self.data)"
   ]
  },
  {
   "cell_type": "code",
   "execution_count": 5,
   "metadata": {},
   "outputs": [],
   "source": [
    "# Create main dataset\n",
    "clock_dataset = ClockDataset(data, labels_cycl)\n",
    "train_data, test_data, val_data = random_split(clock_dataset, [14000,3000,1000])\n",
    "\n",
    "# Split dataset into train, test and validation sets\n",
    "train_data_loader = DataLoader(train_data, batch_size=64)\n",
    "test_data_loader = DataLoader(test_data, batch_size=64)\n",
    "val_data_loader = DataLoader(val_data, batch_size=64)"
   ]
  },
  {
   "cell_type": "code",
   "execution_count": 6,
   "metadata": {},
   "outputs": [
    {
     "name": "stdout",
     "output_type": "stream",
     "text": [
      "Shape of X [N, C, H, W]: torch.Size([1, 150, 150])\n",
      "Shape of y: torch.Size([6]) torch.float32\n"
     ]
    }
   ],
   "source": [
    "for X, y in train_data:\n",
    "    print(f\"Shape of X [N, C, H, W]: {X.shape}\")\n",
    "    print(f\"Shape of y: {y.shape} {y.dtype}\")\n",
    "    break"
   ]
  },
  {
   "cell_type": "markdown",
   "metadata": {},
   "source": [
    "<br/>\n",
    "<h3>Model creation</h3>"
   ]
  },
  {
   "cell_type": "code",
   "execution_count": 7,
   "metadata": {},
   "outputs": [],
   "source": [
    "class NN_regression(nn.Module):\n",
    "    \"\"\" Convolution model that returns one value as output.\n",
    "    \"\"\"\n",
    "    def __init__(self, input_channels, h, w, n_outputs):\n",
    "        super(NN_regression, self).__init__()\n",
    "\n",
    "        self.input_layer = nn.Sequential(\n",
    "            nn.Conv2d(input_channels, 16, kernel_size=5),\n",
    "            nn.ReLU(),\n",
    "            nn.MaxPool2d(2),\n",
    "            nn.BatchNorm2d(16)\n",
    "        )\n",
    "        self.hidden_layers = nn.Sequential(\n",
    "            nn.Conv2d(16, 32, kernel_size=3),\n",
    "            nn.ReLU(),\n",
    "            nn.MaxPool2d(2),\n",
    "            nn.Conv2d(32, 64, kernel_size=2),\n",
    "            nn.ReLU(),\n",
    "            nn.MaxPool2d(2),\n",
    "            nn.Conv2d(64, 128, kernel_size=2),\n",
    "            nn.Dropout(0.2),\n",
    "            nn.Flatten()\n",
    "        )\n",
    "        self.output_layer = nn.Sequential(\n",
    "            nn.Linear(32768, 512),\n",
    "            nn.ReLU(),\n",
    "            nn.Dropout(0.3),\n",
    "            nn.Linear(512, 256),\n",
    "            nn.ReLU(),\n",
    "            nn.Dropout(0.2),\n",
    "            nn.Linear(256, n_outputs)    \n",
    "        )\n",
    "\n",
    "    def forward(self, x):\n",
    "        x = self.input_layer(x)\n",
    "        x = self.hidden_layers(x)\n",
    "        x = self.output_layer(x)\n",
    "        return x"
   ]
  },
  {
   "cell_type": "code",
   "execution_count": 8,
   "metadata": {},
   "outputs": [],
   "source": [
    "def train(dataloader, model, loss_fn, optimizer):\n",
    "    \"\"\" Main train step with weight update\n",
    "    \"\"\"\n",
    "    losses = []\n",
    "    model.train()\n",
    "    for X, y in dataloader:\n",
    "        X, y = X.to(device), y[:, 2:].to(device)\n",
    "        \n",
    "        # Compute prediction error\n",
    "        pred = model(X)\n",
    "        loss = loss_fn(pred, y)\n",
    "\n",
    "        # Backpropagation\n",
    "        optimizer.zero_grad()\n",
    "        loss.backward()\n",
    "        optimizer.step()\n",
    "\n",
    "        losses.append(loss)\n",
    "    losses = torch.FloatTensor(losses)\n",
    "    return losses"
   ]
  },
  {
   "cell_type": "code",
   "execution_count": 9,
   "metadata": {},
   "outputs": [],
   "source": [
    "def evaluate(dataloader, model, loss_fn):\n",
    "    \"\"\" Main evaluation function during training\n",
    "    \"\"\"\n",
    "    model.eval()\n",
    "    losses = []\n",
    "    with torch.no_grad():\n",
    "        for X, y in dataloader:\n",
    "            X, y = X.to(device), y[:, 2:].to(device)\n",
    "            pred = model(X)\n",
    "            loss = loss_fn(pred, y)\n",
    "            losses.append(loss)\n",
    "    losses = torch.FloatTensor(losses)\n",
    "    return losses"
   ]
  },
  {
   "cell_type": "markdown",
   "metadata": {},
   "source": [
    "<h4>Main model training step</h4>"
   ]
  },
  {
   "cell_type": "code",
   "execution_count": 10,
   "metadata": {},
   "outputs": [
    {
     "name": "stdout",
     "output_type": "stream",
     "text": [
      "Epoch 1\n",
      "-------------------------------\n",
      "Train loss: 0.435845\n",
      "Test avg loss: 0.331199 \n",
      "\n",
      "New best found. Saving the weights.\n",
      "Epoch 2\n",
      "-------------------------------\n",
      "Train loss: 0.308106\n",
      "Test avg loss: 0.275024 \n",
      "\n",
      "New best found. Saving the weights.\n",
      "Epoch 3\n",
      "-------------------------------\n",
      "Train loss: 0.271867\n",
      "Test avg loss: 0.247284 \n",
      "\n",
      "New best found. Saving the weights.\n",
      "Epoch 4\n",
      "-------------------------------\n",
      "Train loss: 0.239811\n",
      "Test avg loss: 0.200253 \n",
      "\n",
      "New best found. Saving the weights.\n",
      "Epoch 5\n",
      "-------------------------------\n",
      "Train loss: 0.189067\n",
      "Test avg loss: 0.146846 \n",
      "\n",
      "New best found. Saving the weights.\n",
      "Epoch 6\n",
      "-------------------------------\n",
      "Train loss: 0.142465\n",
      "Test avg loss: 0.112004 \n",
      "\n",
      "New best found. Saving the weights.\n",
      "Epoch 7\n",
      "-------------------------------\n",
      "Train loss: 0.110921\n",
      "Test avg loss: 0.089198 \n",
      "\n",
      "New best found. Saving the weights.\n",
      "Epoch 8\n",
      "-------------------------------\n",
      "Train loss: 0.089239\n",
      "Test avg loss: 0.076603 \n",
      "\n",
      "New best found. Saving the weights.\n",
      "Epoch 9\n",
      "-------------------------------\n",
      "Train loss: 0.077196\n",
      "Test avg loss: 0.066455 \n",
      "\n",
      "New best found. Saving the weights.\n",
      "Epoch 10\n",
      "-------------------------------\n",
      "Train loss: 0.065630\n",
      "Test avg loss: 0.062103 \n",
      "\n",
      "New best found. Saving the weights.\n"
     ]
    }
   ],
   "source": [
    "model = NN_regression(input_channels=1,h=150,w=150, n_outputs=4).to(device)\n",
    "loss = nn.MSELoss()\n",
    "optimizer = torch.optim.Adam(model.parameters(), lr=1e-4)\n",
    "epochs = 10\n",
    "\n",
    "# Main training step\n",
    "train_losses = []\n",
    "test_losses = []\n",
    "mean_test_loss = np.inf\n",
    "start_time = time.time()\n",
    "for t in range(epochs):\n",
    "    print(f\"Epoch {t+1}\\n-------------------------------\")\n",
    "    # Training step\n",
    "    train_l = train(train_data_loader, model, loss, optimizer)\n",
    "    train_mean = torch.mean(train_l)\n",
    "    train_losses.append(train_mean)\n",
    "    print(f\"Train loss: {train_mean:>7f}\")\n",
    "\n",
    "    # Evaluation step\n",
    "    test_l = evaluate(val_data_loader, model, loss)\n",
    "    test_mean = torch.mean(test_l)\n",
    "    test_losses.append(test_mean)\n",
    "    print(f\"Test avg loss: {test_mean:>8f} \\n\")\n",
    "\n",
    "    # Save new weights if they are better\n",
    "    if test_mean < mean_test_loss:\n",
    "        print(\"New best found. Saving the weights.\")\n",
    "        mean_test_loss = test_mean\n",
    "        torch.save(model.state_dict(), \"../model_weights/weights-test\")\n",
    "end_time = time.time()"
   ]
  },
  {
   "cell_type": "code",
   "execution_count": 11,
   "metadata": {},
   "outputs": [
    {
     "data": {
      "text/plain": [
       "(10, 1)"
      ]
     },
     "execution_count": 11,
     "metadata": {},
     "output_type": "execute_result"
    }
   ],
   "source": [
    "x = np.vstack(train_losses)\n",
    "y = np.vstack(test_losses)"
   ]
  },
  {
   "cell_type": "code",
   "execution_count": 23,
   "metadata": {},
   "outputs": [
    {
     "data": {
      "text/plain": [
       "<matplotlib.legend.Legend at 0x7fd0e6d21670>"
      ]
     },
     "execution_count": 23,
     "metadata": {},
     "output_type": "execute_result"
    },
    {
     "data": {
      "image/png": "[encoded data removed]",
      "text/plain": [
       "<Figure size 432x288 with 1 Axes>"
      ]
     },
     "metadata": {
      "needs_background": "light"
     },
     "output_type": "display_data"
    }
   ],
   "source": [
    "plt.plot(x, label=\"train\")\n",
    "plt.plot(y, label=\"evaluate\")\n",
    "plt.xlabel(\"epochs\")\n",
    "plt.ylabel(\"loss\")\n",
    "plt.legend()\n",
    "plt.save"
   ]
  },
  {
   "cell_type": "markdown",
   "metadata": {},
   "source": [
    "<h4>Test our model with unseen data</h4>"
   ]
  },
  {
   "cell_type": "code",
   "execution_count": 12,
   "metadata": {},
   "outputs": [
    {
     "name": "stdout",
     "output_type": "stream",
     "text": [
      "Avg evaluation loss: 0.060736 \n",
      "\n",
      "Predictions shape: (3000, 4)\n"
     ]
    }
   ],
   "source": [
    "def predict(dataloader, model, loss_fn):\n",
    "    \"\"\" Returns predictions for the data in the DataLoader \n",
    "        as a flattened numpy array.\n",
    "    \"\"\"\n",
    "    losses = []\n",
    "    predictions = []\n",
    "    model.eval()\n",
    "    with torch.no_grad():\n",
    "        for X, y in dataloader:\n",
    "            X, y = X.to(device), y[:,2:].to(device)\n",
    "            pred = model(X)\n",
    "            predictions.append(pred.cpu().numpy())\n",
    "            loss = loss_fn(pred, y)\n",
    "            losses.append(loss)\n",
    "    losses = torch.FloatTensor(losses)\n",
    "    print(f\"Avg evaluation loss: {torch.mean(losses):>8f} \\n\")\n",
    "\n",
    "    # Normalize values bigger than the threshold\n",
    "    predictions  = np.vstack(predictions)\n",
    "    predictions[ predictions > 1 ] = 1\n",
    "    predictions[ predictions < -1 ] = -1\n",
    "    return predictions\n",
    "\n",
    "predictions = predict(test_data_loader, model, loss)\n",
    "print(\"Predictions shape:\",predictions.shape)"
   ]
  },
  {
   "cell_type": "code",
   "execution_count": 13,
   "metadata": {},
   "outputs": [
    {
     "name": "stdout",
     "output_type": "stream",
     "text": [
      "Targets shape (3000, 6)\n"
     ]
    }
   ],
   "source": [
    "targets = []\n",
    "for i in range(len(test_data)):\n",
    "    targets.append(test_data[i][1])\n",
    "targets = np.vstack(targets)\n",
    "print(\"Targets shape\",targets.shape)"
   ]
  },
  {
   "cell_type": "code",
   "execution_count": 14,
   "metadata": {},
   "outputs": [
    {
     "name": "stdout",
     "output_type": "stream",
     "text": [
      "True predictions shape: torch.Size([3000, 2])\n"
     ]
    }
   ],
   "source": [
    "def denormalize_time(predictions):\n",
    "    \"\"\" returns the corresponding hour and minute predictions\n",
    "        from the sine and cosine values\n",
    "    \"\"\"\n",
    "    true_preds = []\n",
    "    for h_cos,h_sin,m_cos,m_sin in predictions:\n",
    "        h_angle = math.atan2(h_sin, h_cos)\n",
    "        h_angle *= 180 / math.pi\n",
    "        if h_angle < 0: h_angle += 360\n",
    "\n",
    "        m_angle = math.atan2(m_sin, m_cos)\n",
    "        m_angle *= 180 / math.pi\n",
    "        if m_angle < 0: m_angle += 360\n",
    "\n",
    "        true_hour = math.modf(h_angle/30)[1]\n",
    "        true_mins = math.modf(m_angle/6)[1]\n",
    "        true_preds.append([true_hour, true_mins])\n",
    "    return torch.FloatTensor(true_preds)\n",
    "\n",
    "true_preds = denormalize_time(predictions)\n",
    "print(\"True predictions shape:\",true_preds.shape)"
   ]
  },
  {
   "cell_type": "markdown",
   "metadata": {},
   "source": [
    "<br/>\n",
    "<h4>Define common sense error and calculate it on test dataset.</h4>"
   ]
  },
  {
   "cell_type": "code",
   "execution_count": 15,
   "metadata": {},
   "outputs": [
    {
     "data": {
      "text/plain": [
       "tensor(46.)"
      ]
     },
     "execution_count": 15,
     "metadata": {},
     "output_type": "execute_result"
    }
   ],
   "source": [
    "class CommonSenseError(nn.Module):\n",
    "    def __init__(self):\n",
    "        super(CommonSenseError, self).__init__()\n",
    "\n",
    "    def forward(self, prediction, target):\n",
    "        # hour common sense error in minutes\n",
    "        preds = torch.floor(prediction.T)\n",
    "        labels = target.T\n",
    "        hour_start_idx = torch.minimum(preds[0], labels[0])\n",
    "        hour_end_idx = torch.maximum(preds[0], labels[0])\n",
    "        hour_dist_1 = (hour_end_idx - hour_start_idx)\n",
    "        hour_dist_2 = hour_start_idx + 12 - hour_end_idx\n",
    "        hour_dist = torch.minimum(hour_dist_1, hour_dist_2) * 60  # we want the common error to be in minutes\n",
    "\n",
    "        # minutes common sense error\n",
    "        mins_start_idx = torch.minimum(preds[1], labels[1])\n",
    "        mins_end_idx = torch.maximum(preds[1], labels[1])\n",
    "        mins_dist_1 = (mins_end_idx - mins_start_idx)\n",
    "        mins_dist_2 = mins_start_idx + 60 - mins_end_idx\n",
    "        mins_dist = torch.minimum(mins_dist_1, mins_dist_2)\n",
    "\n",
    "        # return total common sense error in minutes\n",
    "        return torch.mean(hour_dist + mins_dist)\n",
    "\n",
    "\n",
    "a = torch.Tensor([[1,14], [4,28], [2,36], [1,1]])\n",
    "b = torch.Tensor([[1,15], [3,29], [2,36], [11,59]])\n",
    "cse = CommonSenseError()\n",
    "cse.forward(a,b)"
   ]
  },
  {
   "cell_type": "code",
   "execution_count": 16,
   "metadata": {},
   "outputs": [
    {
     "name": "stdout",
     "output_type": "stream",
     "text": [
      "Common sense error: 25.610000610351562\n"
     ]
    }
   ],
   "source": [
    "cse_err = cse(torch.FloatTensor(true_preds),torch.FloatTensor(targets[:,:2]))\n",
    "print(f\"Common sense error: {cse_err}\")"
   ]
  },
  {
   "cell_type": "code",
   "execution_count": null,
   "metadata": {},
   "outputs": [],
   "source": []
  }
 ],
 "metadata": {
  "interpreter": {
   "hash": "3e3d537f7c047eb69d35d93db02503d7f99d5e4e21342e5ae19b3dd47808d68e"
  },
  "kernelspec": {
   "display_name": "Python 3.9.12 ('pytorch')",
   "language": "python",
   "name": "python3"
  },
  "language_info": {
   "codemirror_mode": {
    "name": "ipython",
    "version": 3
   },
   "file_extension": ".py",
   "mimetype": "text/x-python",
   "name": "python",
   "nbconvert_exporter": "python",
   "pygments_lexer": "ipython3",
   "version": "3.9.12"
  },
  "orig_nbformat": 4
 },
 "nbformat": 4,
 "nbformat_minor": 2
}
