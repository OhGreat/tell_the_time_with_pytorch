{
 "cells": [
  {
   "cell_type": "code",
   "execution_count": 1,
   "metadata": {},
   "outputs": [
    {
     "name": "stdout",
     "output_type": "stream",
     "text": [
      "cuda\n"
     ]
    }
   ],
   "source": [
    "import numpy as np\n",
    "import torch\n",
    "from torch import nn\n",
    "from torch.utils.data import Dataset, DataLoader, random_split\n",
    "import time\n",
    "import random\n",
    "from PIL import Image\n",
    "import matplotlib.pyplot as plt\n",
    "import pandas as pd\n",
    "\n",
    "device = \"cuda\" if torch.cuda.is_available() else \"cpu\"\n",
    "print(device)"
   ]
  },
  {
   "cell_type": "code",
   "execution_count": 2,
   "metadata": {},
   "outputs": [
    {
     "name": "stdout",
     "output_type": "stream",
     "text": [
      "data: torch.Size([18000, 1, 150, 150]), labels: torch.Size([18000, 2])\n"
     ]
    }
   ],
   "source": [
    "\"\"\"# Load data\n",
    "data = np.load(\"data/data_1.npy\")\n",
    "labels = np.load(\"data/labels_1.npy\")\n",
    "\n",
    "data = np.vstack((data,np.load(\"data/data_2.npy\")))\n",
    "labels = np.vstack((labels,np.load(\"data/labels_2.npy\")))\n",
    "\n",
    "data = np.vstack((data,np.load(\"data/data_3.npy\")))\n",
    "labels = np.vstack((labels,np.load(\"data/labels_3.npy\")))\n",
    "\n",
    "data = np.vstack((data,np.load(\"data/data_4.npy\")))\n",
    "labels = np.vstack((labels,np.load(\"data/labels_4.npy\")))\n",
    "\n",
    "data = np.vstack((data,np.load(\"data/data_5.npy\")))\n",
    "labels = np.vstack((labels,np.load(\"data/labels_5.npy\")))\"\"\"\n",
    "\n",
    "data = np.load(\"../data/images.npy\")/255.\n",
    "data = torch.FloatTensor(np.expand_dims(data,axis=1))\n",
    "data_permuts = torch.randperm(data.shape[0])\n",
    "data = data[data_permuts,:]\n",
    "labels = torch.FloatTensor(np.load(\"../data/labels.npy\"))\n",
    "labels = labels[data_permuts,:]\n",
    "\n",
    "print(f\"data: {data.shape}, labels: {labels.shape}\")"
   ]
  },
  {
   "cell_type": "code",
   "execution_count": null,
   "metadata": {},
   "outputs": [],
   "source": []
  },
  {
   "cell_type": "code",
   "execution_count": null,
   "metadata": {},
   "outputs": [],
   "source": []
  },
  {
   "cell_type": "markdown",
   "metadata": {},
   "source": [
    "<br/>\n",
    "<h3>Labels transformation to cyclical</h3>"
   ]
  },
  {
   "cell_type": "code",
   "execution_count": 3,
   "metadata": {},
   "outputs": [],
   "source": [
    "#we will use a dataframe to change the labels since it is more convenient.\n",
    "labels_df = pd.DataFrame(labels,columns=['hour', 'minute'])\n",
    "labels_df['h_cos'] = np.cos(2 * np.pi * labels_df[\"hour\"] / labels_df[\"hour\"].max())\n",
    "labels_df['h_sin'] = np.sin(2 * np.pi * labels_df[\"hour\"] / labels_df[\"hour\"].max())\n",
    "labels_df['m_cos'] = np.cos(2 * np.pi * labels_df[\"minute\"] / labels_df[\"minute\"].max())\n",
    "labels_df['m_sin'] = np.sin(2 * np.pi * labels_df[\"minute\"] / labels_df[\"minute\"].max())"
   ]
  },
  {
   "cell_type": "code",
   "execution_count": 4,
   "metadata": {},
   "outputs": [
    {
     "data": {
      "text/html": [
       "<div>\n",
       "<style scoped>\n",
       "    .dataframe tbody tr th:only-of-type {\n",
       "        vertical-align: middle;\n",
       "    }\n",
       "\n",
       "    .dataframe tbody tr th {\n",
       "        vertical-align: top;\n",
       "    }\n",
       "\n",
       "    .dataframe thead th {\n",
       "        text-align: right;\n",
       "    }\n",
       "</style>\n",
       "<table border=\"1\" class=\"dataframe\">\n",
       "  <thead>\n",
       "    <tr style=\"text-align: right;\">\n",
       "      <th></th>\n",
       "      <th>hour</th>\n",
       "      <th>minute</th>\n",
       "      <th>h_cos</th>\n",
       "      <th>h_sin</th>\n",
       "      <th>m_cos</th>\n",
       "      <th>m_sin</th>\n",
       "    </tr>\n",
       "  </thead>\n",
       "  <tbody>\n",
       "    <tr>\n",
       "      <th>0</th>\n",
       "      <td>5.0</td>\n",
       "      <td>34.0</td>\n",
       "      <td>-0.959493</td>\n",
       "      <td>2.817324e-01</td>\n",
       "      <td>-0.887352</td>\n",
       "      <td>-0.461093</td>\n",
       "    </tr>\n",
       "    <tr>\n",
       "      <th>1</th>\n",
       "      <td>9.0</td>\n",
       "      <td>35.0</td>\n",
       "      <td>0.415415</td>\n",
       "      <td>-9.096320e-01</td>\n",
       "      <td>-0.833314</td>\n",
       "      <td>-0.552800</td>\n",
       "    </tr>\n",
       "    <tr>\n",
       "      <th>2</th>\n",
       "      <td>1.0</td>\n",
       "      <td>32.0</td>\n",
       "      <td>0.841254</td>\n",
       "      <td>5.406408e-01</td>\n",
       "      <td>-0.964768</td>\n",
       "      <td>-0.263103</td>\n",
       "    </tr>\n",
       "    <tr>\n",
       "      <th>3</th>\n",
       "      <td>11.0</td>\n",
       "      <td>8.0</td>\n",
       "      <td>1.000000</td>\n",
       "      <td>6.516827e-07</td>\n",
       "      <td>0.658511</td>\n",
       "      <td>0.752571</td>\n",
       "    </tr>\n",
       "    <tr>\n",
       "      <th>4</th>\n",
       "      <td>7.0</td>\n",
       "      <td>4.0</td>\n",
       "      <td>-0.654861</td>\n",
       "      <td>-7.557498e-01</td>\n",
       "      <td>0.910635</td>\n",
       "      <td>0.413212</td>\n",
       "    </tr>\n",
       "    <tr>\n",
       "      <th>...</th>\n",
       "      <td>...</td>\n",
       "      <td>...</td>\n",
       "      <td>...</td>\n",
       "      <td>...</td>\n",
       "      <td>...</td>\n",
       "      <td>...</td>\n",
       "    </tr>\n",
       "    <tr>\n",
       "      <th>17995</th>\n",
       "      <td>0.0</td>\n",
       "      <td>48.0</td>\n",
       "      <td>1.000000</td>\n",
       "      <td>0.000000e+00</td>\n",
       "      <td>0.388824</td>\n",
       "      <td>-0.921312</td>\n",
       "    </tr>\n",
       "    <tr>\n",
       "      <th>17996</th>\n",
       "      <td>3.0</td>\n",
       "      <td>15.0</td>\n",
       "      <td>-0.142315</td>\n",
       "      <td>9.898214e-01</td>\n",
       "      <td>-0.026621</td>\n",
       "      <td>0.999646</td>\n",
       "    </tr>\n",
       "    <tr>\n",
       "      <th>17997</th>\n",
       "      <td>5.0</td>\n",
       "      <td>19.0</td>\n",
       "      <td>-0.959493</td>\n",
       "      <td>2.817324e-01</td>\n",
       "      <td>-0.437307</td>\n",
       "      <td>0.899312</td>\n",
       "    </tr>\n",
       "    <tr>\n",
       "      <th>17998</th>\n",
       "      <td>7.0</td>\n",
       "      <td>31.0</td>\n",
       "      <td>-0.654861</td>\n",
       "      <td>-7.557498e-01</td>\n",
       "      <td>-0.987268</td>\n",
       "      <td>-0.159063</td>\n",
       "    </tr>\n",
       "    <tr>\n",
       "      <th>17999</th>\n",
       "      <td>5.0</td>\n",
       "      <td>44.0</td>\n",
       "      <td>-0.959493</td>\n",
       "      <td>2.817324e-01</td>\n",
       "      <td>-0.026620</td>\n",
       "      <td>-0.999646</td>\n",
       "    </tr>\n",
       "  </tbody>\n",
       "</table>\n",
       "<p>18000 rows × 6 columns</p>\n",
       "</div>"
      ],
      "text/plain": [
       "       hour  minute     h_cos         h_sin     m_cos     m_sin\n",
       "0       5.0    34.0 -0.959493  2.817324e-01 -0.887352 -0.461093\n",
       "1       9.0    35.0  0.415415 -9.096320e-01 -0.833314 -0.552800\n",
       "2       1.0    32.0  0.841254  5.406408e-01 -0.964768 -0.263103\n",
       "3      11.0     8.0  1.000000  6.516827e-07  0.658511  0.752571\n",
       "4       7.0     4.0 -0.654861 -7.557498e-01  0.910635  0.413212\n",
       "...     ...     ...       ...           ...       ...       ...\n",
       "17995   0.0    48.0  1.000000  0.000000e+00  0.388824 -0.921312\n",
       "17996   3.0    15.0 -0.142315  9.898214e-01 -0.026621  0.999646\n",
       "17997   5.0    19.0 -0.959493  2.817324e-01 -0.437307  0.899312\n",
       "17998   7.0    31.0 -0.654861 -7.557498e-01 -0.987268 -0.159063\n",
       "17999   5.0    44.0 -0.959493  2.817324e-01 -0.026620 -0.999646\n",
       "\n",
       "[18000 rows x 6 columns]"
      ]
     },
     "execution_count": 4,
     "metadata": {},
     "output_type": "execute_result"
    }
   ],
   "source": [
    "labels_df"
   ]
  },
  {
   "cell_type": "code",
   "execution_count": 5,
   "metadata": {},
   "outputs": [],
   "source": [
    "labels_cycl = torch.FloatTensor(labels_df.to_numpy())"
   ]
  },
  {
   "cell_type": "code",
   "execution_count": 6,
   "metadata": {},
   "outputs": [
    {
     "data": {
      "text/plain": [
       "tensor([[ 5.0000e+00,  3.4000e+01, -9.5949e-01,  2.8173e-01, -8.8735e-01,\n",
       "         -4.6109e-01],\n",
       "        [ 9.0000e+00,  3.5000e+01,  4.1542e-01, -9.0963e-01, -8.3331e-01,\n",
       "         -5.5280e-01],\n",
       "        [ 1.0000e+00,  3.2000e+01,  8.4125e-01,  5.4064e-01, -9.6477e-01,\n",
       "         -2.6310e-01],\n",
       "        ...,\n",
       "        [ 5.0000e+00,  1.9000e+01, -9.5949e-01,  2.8173e-01, -4.3731e-01,\n",
       "          8.9931e-01],\n",
       "        [ 7.0000e+00,  3.1000e+01, -6.5486e-01, -7.5575e-01, -9.8727e-01,\n",
       "         -1.5906e-01],\n",
       "        [ 5.0000e+00,  4.4000e+01, -9.5949e-01,  2.8173e-01, -2.6620e-02,\n",
       "         -9.9965e-01]])"
      ]
     },
     "execution_count": 6,
     "metadata": {},
     "output_type": "execute_result"
    }
   ],
   "source": [
    "labels_cycl"
   ]
  },
  {
   "cell_type": "markdown",
   "metadata": {},
   "source": [
    "<br/>\n",
    "<h3>Dataset creation</h3>"
   ]
  },
  {
   "cell_type": "code",
   "execution_count": 7,
   "metadata": {},
   "outputs": [],
   "source": [
    "class ClockDataset(Dataset):\n",
    "    \"\"\" Class used to create the pytorch DataLoaders.\n",
    "    \"\"\"\n",
    "    def __init__(self, data, targets):\n",
    "        self.data = data\n",
    "        self.targets = targets\n",
    "\n",
    "    def __getitem__(self, index):\n",
    "        x = self.data[index]\n",
    "        y = self.targets[index]\n",
    "        return x, y\n",
    "    \n",
    "    def __len__(self):\n",
    "        return len(self.data)"
   ]
  },
  {
   "cell_type": "code",
   "execution_count": 8,
   "metadata": {},
   "outputs": [],
   "source": [
    "# Create main dataset\n",
    "clock_dataset = ClockDataset(data, labels_cycl)\n",
    "train_data, test_data, val_data = random_split(clock_dataset, [14000,3000,1000])\n",
    "\n",
    "# Split dataset into train, test and validation sets\n",
    "train_data = DataLoader(train_data, batch_size=64)\n",
    "test_data = DataLoader(test_data, batch_size=64)\n",
    "val_data = DataLoader(val_data, batch_size=64)"
   ]
  },
  {
   "cell_type": "code",
   "execution_count": 9,
   "metadata": {},
   "outputs": [
    {
     "name": "stdout",
     "output_type": "stream",
     "text": [
      "Shape of X [N, C, H, W]: torch.Size([64, 1, 150, 150])\n",
      "Shape of y: torch.Size([64, 6]) torch.float32\n"
     ]
    }
   ],
   "source": [
    "for X, y in train_data:\n",
    "    print(f\"Shape of X [N, C, H, W]: {X.shape}\")\n",
    "    print(f\"Shape of y: {y.shape} {y.dtype}\")\n",
    "    break"
   ]
  },
  {
   "cell_type": "markdown",
   "metadata": {},
   "source": [
    "<br/>\n",
    "<h3>Model creation</h3>"
   ]
  },
  {
   "cell_type": "code",
   "execution_count": 10,
   "metadata": {},
   "outputs": [],
   "source": [
    "class NN_regression(nn.Module):\n",
    "    \"\"\" Convolution model that returns one value as output.\n",
    "    \"\"\"\n",
    "    def __init__(self, input_channels, h, w, n_outputs):\n",
    "        super(NN_regression, self).__init__()\n",
    "\n",
    "        self.input_layer = nn.Sequential(\n",
    "            nn.Conv2d(input_channels, 16, kernel_size=5),\n",
    "            nn.ReLU(),\n",
    "            nn.MaxPool2d(2),\n",
    "            nn.BatchNorm2d(16)\n",
    "        )\n",
    "        self.hidden_layers = nn.Sequential(\n",
    "            nn.Conv2d(16, 32, kernel_size=3),\n",
    "            nn.ReLU(),\n",
    "            nn.MaxPool2d(2),\n",
    "            nn.Conv2d(32, 64, kernel_size=2),\n",
    "            nn.ReLU(),\n",
    "            nn.MaxPool2d(2),\n",
    "            nn.Conv2d(64, 128, kernel_size=2),\n",
    "            nn.Flatten()\n",
    "        )\n",
    "\n",
    "\n",
    "        self.output_layer = nn.Sequential(\n",
    "            nn.Linear(32768, 512),\n",
    "            nn.ReLU(),\n",
    "            nn.Linear(512, 256),\n",
    "            nn.ReLU(),\n",
    "            nn.Linear(256, n_outputs)\n",
    "            \n",
    "        )\n",
    "\n",
    "\n",
    "    def forward(self, x):\n",
    "        x = self.input_layer(x)\n",
    "        x = self.hidden_layers(x)\n",
    "        x = self.output_layer(x)\n",
    "        return x"
   ]
  },
  {
   "cell_type": "code",
   "execution_count": 11,
   "metadata": {},
   "outputs": [],
   "source": [
    "model = NN_regression(input_channels=1,h=150,w=150, n_outputs=4).to(device)\n",
    "loss = nn.MSELoss()\n",
    "optimizer = torch.optim.Adam(model.parameters(), lr=1e-3)"
   ]
  },
  {
   "cell_type": "code",
   "execution_count": 12,
   "metadata": {},
   "outputs": [],
   "source": [
    "def train(dataloader, model, loss_fn, optimizer):\n",
    "    losses = []\n",
    "    model.train()\n",
    "    for X, y in dataloader:\n",
    "        X, y = X.to(device), y[:, 2:].to(device)\n",
    "        \n",
    "        # Compute prediction error\n",
    "        pred = model(X)\n",
    "        loss = loss_fn(pred, y)\n",
    "\n",
    "        # Backpropagation\n",
    "        optimizer.zero_grad()\n",
    "        loss.backward()\n",
    "        optimizer.step()\n",
    "\n",
    "        losses.append(loss)\n",
    "    losses = torch.FloatTensor(losses)\n",
    "    print(f\"Train loss: {torch.mean(losses):>7f}\")"
   ]
  },
  {
   "cell_type": "code",
   "execution_count": 13,
   "metadata": {},
   "outputs": [],
   "source": [
    "def test(dataloader, model, loss_fn):\n",
    "    model.eval()\n",
    "    losses = []\n",
    "    with torch.no_grad():\n",
    "        for X, y in dataloader:\n",
    "            X, y = X.to(device), y[:, 2:].to(device)\n",
    "            pred = model(X)\n",
    "            loss = loss_fn(pred, y)\n",
    "            losses.append(loss)\n",
    "    losses = torch.FloatTensor(losses)\n",
    "    print(f\"Test avg loss: {torch.mean(losses):>8f} \\n\")\n"
   ]
  },
  {
   "cell_type": "code",
   "execution_count": 14,
   "metadata": {},
   "outputs": [
    {
     "name": "stdout",
     "output_type": "stream",
     "text": [
      "Epoch 1\n",
      "-------------------------------\n",
      "Train loss: 0.456789\n",
      "Test avg loss: 0.297029 \n",
      "\n",
      "Epoch 2\n",
      "-------------------------------\n",
      "Train loss: 0.244245\n",
      "Test avg loss: 0.189842 \n",
      "\n",
      "Epoch 3\n",
      "-------------------------------\n",
      "Train loss: 0.096588\n",
      "Test avg loss: 0.069306 \n",
      "\n",
      "Epoch 4\n",
      "-------------------------------\n",
      "Train loss: 0.034566\n",
      "Test avg loss: 0.036245 \n",
      "\n",
      "Epoch 5\n",
      "-------------------------------\n",
      "Train loss: 0.019191\n",
      "Test avg loss: 0.025878 \n",
      "\n",
      "Epoch 6\n",
      "-------------------------------\n",
      "Train loss: 0.013278\n",
      "Test avg loss: 0.023368 \n",
      "\n",
      "Epoch 7\n",
      "-------------------------------\n",
      "Train loss: 0.010957\n",
      "Test avg loss: 0.025298 \n",
      "\n",
      "Epoch 8\n",
      "-------------------------------\n",
      "Train loss: 0.011008\n",
      "Test avg loss: 0.026835 \n",
      "\n",
      "Epoch 9\n",
      "-------------------------------\n",
      "Train loss: 0.011196\n",
      "Test avg loss: 0.026247 \n",
      "\n",
      "Epoch 10\n",
      "-------------------------------\n",
      "Train loss: 0.011548\n",
      "Test avg loss: 0.026613 \n",
      "\n"
     ]
    }
   ],
   "source": [
    "epochs = 10\n",
    "start_time = time.time()\n",
    "for t in range(epochs):\n",
    "    print(f\"Epoch {t+1}\\n-------------------------------\")\n",
    "    train(train_data, model, loss, optimizer)\n",
    "    test(val_data, model, loss)\n",
    "end_time = time.time()"
   ]
  },
  {
   "cell_type": "code",
   "execution_count": 15,
   "metadata": {},
   "outputs": [
    {
     "data": {
      "text/plain": [
       "tensor(46.)"
      ]
     },
     "execution_count": 15,
     "metadata": {},
     "output_type": "execute_result"
    }
   ],
   "source": [
    "class CommonSenseError(nn.Module):\n",
    "    def __init__(self):\n",
    "        super(CommonSenseError, self).__init__()\n",
    "\n",
    "    def forward(self, prediction, target):\n",
    "        # hour common sense error in minutes\n",
    "        preds = torch.floor(prediction.T)\n",
    "        labels = target.T\n",
    "        hour_start_idx = torch.minimum(preds[0], labels[0])\n",
    "        hour_end_idx = torch.maximum(preds[0], labels[0])\n",
    "        hour_dist_1 = (hour_end_idx - hour_start_idx)\n",
    "        hour_dist_2 = hour_start_idx + 12 - hour_end_idx\n",
    "        hour_dist = torch.minimum(hour_dist_1, hour_dist_2) * 60  # we want the common error to be in minutes\n",
    "\n",
    "        # minutes common sense error\n",
    "        mins_start_idx = torch.minimum(preds[1], labels[1])\n",
    "        mins_end_idx = torch.maximum(preds[1], labels[1])\n",
    "        mins_dist_1 = (mins_end_idx - mins_start_idx)\n",
    "        mins_dist_2 = mins_start_idx + 60 - mins_end_idx\n",
    "        mins_dist = torch.minimum(mins_dist_1, mins_dist_2)\n",
    "\n",
    "        # return total common sense error in minutes\n",
    "        return torch.mean(hour_dist + mins_dist)\n",
    "\n",
    "\n",
    "a = torch.Tensor([[1,14], [4,28], [2,36], [1,1]])\n",
    "b = torch.Tensor([[1,15], [3,29], [2,36], [11,59]])\n",
    "cse = CommonSenseError()\n",
    "cse.forward(a,b)"
   ]
  },
  {
   "cell_type": "code",
   "execution_count": 16,
   "metadata": {},
   "outputs": [],
   "source": [
    "def predict(dataloader, model, loss_fn):\n",
    "    model.eval()\n",
    "    losses = []\n",
    "    predictions = []\n",
    "    with torch.no_grad():\n",
    "        for X, y in dataloader:\n",
    "            X, y = X.to(device), y.to(device)\n",
    "            pred = model(X)\n",
    "            predictions.append(pred.cpu().numpy())\n",
    "            loss = loss_fn(pred, y)\n",
    "            losses.append(loss)\n",
    "    losses = torch.FloatTensor(losses)\n",
    "    print(f\"Avg evaluation loss: {torch.mean(losses):>8f} \\n\")\n",
    "    return predictions"
   ]
  },
  {
   "cell_type": "code",
   "execution_count": 17,
   "metadata": {},
   "outputs": [
    {
     "name": "stdout",
     "output_type": "stream",
     "text": [
      "preds: torch.Size([64, 4]) targets: torch.Size([62, 6])\n"
     ]
    }
   ],
   "source": [
    "cse = CommonSenseError()\n",
    "predictions = []\n",
    "with torch.no_grad():\n",
    "    for curr_batch in test_data:\n",
    "        X = curr_batch[0].to(device)\n",
    "        pred = model(X)\n",
    "        predictions.append(pred)\n",
    "\n",
    "for pred, target in zip(predictions, test_data):\n",
    "    print(\"preds:\",pred.shape, \"targets:\",target[1][2:].shape)\n",
    "    break"
   ]
  },
  {
   "cell_type": "code",
   "execution_count": 18,
   "metadata": {},
   "outputs": [
    {
     "ename": "NameError",
     "evalue": "name 'preds' is not defined",
     "output_type": "error",
     "traceback": [
      "\u001b[0;31m---------------------------------------------------------------------------\u001b[0m",
      "\u001b[0;31mNameError\u001b[0m                                 Traceback (most recent call last)",
      "\u001b[1;32m/home/dimi/Workdir/tell_the_time_NN/notebooks/cyclic_regression.ipynb Cell 23'\u001b[0m in \u001b[0;36m<cell line: 3>\u001b[0;34m()\u001b[0m\n\u001b[1;32m      <a href='vscode-notebook-cell:/home/dimi/Workdir/tell_the_time_NN/notebooks/cyclic_regression.ipynb#ch0000024?line=0'>1</a>\u001b[0m \u001b[39m# there are some values slightly bigger than 1 and smaller than -1 so \u001b[39;00m\n\u001b[1;32m      <a href='vscode-notebook-cell:/home/dimi/Workdir/tell_the_time_NN/notebooks/cyclic_regression.ipynb#ch0000024?line=1'>2</a>\u001b[0m \u001b[39m# we will approximate them to 1 and -1 correspectively\u001b[39;00m\n\u001b[0;32m----> <a href='vscode-notebook-cell:/home/dimi/Workdir/tell_the_time_NN/notebooks/cyclic_regression.ipynb#ch0000024?line=2'>3</a>\u001b[0m preds[preds \u001b[39m>\u001b[39m \u001b[39m1\u001b[39m] \u001b[39m=\u001b[39m \u001b[39m1\u001b[39m\n\u001b[1;32m      <a href='vscode-notebook-cell:/home/dimi/Workdir/tell_the_time_NN/notebooks/cyclic_regression.ipynb#ch0000024?line=3'>4</a>\u001b[0m preds[preds \u001b[39m<\u001b[39m \u001b[39m-\u001b[39m\u001b[39m1\u001b[39m] \u001b[39m=\u001b[39m \u001b[39m-\u001b[39m\u001b[39m1\u001b[39m\n",
      "\u001b[0;31mNameError\u001b[0m: name 'preds' is not defined"
     ]
    }
   ],
   "source": [
    "# there are some values slightly bigger than 1 and smaller than -1 so \n",
    "# we will approximate them to 1 and -1 correspectively\n",
    "preds[preds > 1] = 1\n",
    "preds[preds < -1] = -1"
   ]
  },
  {
   "cell_type": "code",
   "execution_count": null,
   "metadata": {},
   "outputs": [],
   "source": [
    "#returns the corresponding hour and minute predictions\n",
    "#from the sine and cosine values\n",
    "import math\n",
    "\n",
    "def denormalize_clock(h_cos,h_sin,m_cos,m_sin):\n",
    "\n",
    "    h_angle = math.atan2(h_sin, h_cos)\n",
    "    h_angle *= 180 / math.pi\n",
    "    if h_angle < 0: h_angle += 360\n",
    "\n",
    "    m_angle = math.atan2(m_sin, m_cos)\n",
    "    m_angle *= 180 / math.pi\n",
    "    if m_angle < 0: m_angle += 360\n",
    "\n",
    "    h_angle = math.modf(h_angle/30)[1]\n",
    "    m_angle = math.modf(m_angle/6)[1]\n",
    "    return [h_angle, m_angle]"
   ]
  },
  {
   "cell_type": "code",
   "execution_count": null,
   "metadata": {},
   "outputs": [],
   "source": [
    "true_preds = np.array([ denormalize_clock(h_cos,h_sin,m_cos,m_sin) for h_cos,h_sin,m_cos,m_sin in preds])"
   ]
  },
  {
   "cell_type": "code",
   "execution_count": null,
   "metadata": {},
   "outputs": [],
   "source": [
    "#function to calculate common sense distance in minutes between 2 values\n",
    "def common_sense_distance(domain_len,value_1, value_2):\n",
    "  start_index = min(value_1,value_2)\n",
    "  end_index = max(value_1,value_2)\n",
    "  dist_1 = end_index - start_index\n",
    "\n",
    "  dist_2 = start_index + domain_len - end_index\n",
    "  return min(dist_1,dist_2)"
   ]
  },
  {
   "cell_type": "code",
   "execution_count": null,
   "metadata": {},
   "outputs": [
    {
     "ename": "TypeError",
     "evalue": "'ClockDataset' object is not callable",
     "output_type": "error",
     "traceback": [
      "\u001b[0;31m---------------------------------------------------------------------------\u001b[0m",
      "\u001b[0;31mTypeError\u001b[0m                                 Traceback (most recent call last)",
      "\u001b[1;32m/home/dimi/Workdir/tell_the_time_NN/notebooks/cyclic_regression.ipynb Cell 27'\u001b[0m in \u001b[0;36m<cell line: 1>\u001b[0;34m()\u001b[0m\n\u001b[0;32m----> <a href='vscode-notebook-cell:/home/dimi/Workdir/tell_the_time_NN/notebooks/cyclic_regression.ipynb#ch0000033?line=0'>1</a>\u001b[0m test_data\u001b[39m.\u001b[39;49mdataset\u001b[39m.\u001b[39;49mdataset()\n",
      "\u001b[0;31mTypeError\u001b[0m: 'ClockDataset' object is not callable"
     ]
    }
   ],
   "source": [
    "test_data.dataset.dataset()"
   ]
  },
  {
   "cell_type": "code",
   "execution_count": null,
   "metadata": {},
   "outputs": [
    {
     "ename": "NameError",
     "evalue": "name 'y_test' is not defined",
     "output_type": "error",
     "traceback": [
      "\u001b[0;31m---------------------------------------------------------------------------\u001b[0m",
      "\u001b[0;31mNameError\u001b[0m                                 Traceback (most recent call last)",
      "\u001b[1;32m/home/dimi/Workdir/tell_the_time_NN/notebooks/cyclic_regression.ipynb Cell 27'\u001b[0m in \u001b[0;36m<cell line: 4>\u001b[0;34m()\u001b[0m\n\u001b[1;32m      <a href='vscode-notebook-cell:/home/dimi/Workdir/tell_the_time_NN/notebooks/cyclic_regression.ipynb#ch0000029?line=1'>2</a>\u001b[0m m_domain \u001b[39m=\u001b[39m \u001b[39m60\u001b[39m\n\u001b[1;32m      <a href='vscode-notebook-cell:/home/dimi/Workdir/tell_the_time_NN/notebooks/cyclic_regression.ipynb#ch0000029?line=2'>3</a>\u001b[0m distances\u001b[39m=\u001b[39m []\n\u001b[0;32m----> <a href='vscode-notebook-cell:/home/dimi/Workdir/tell_the_time_NN/notebooks/cyclic_regression.ipynb#ch0000029?line=3'>4</a>\u001b[0m \u001b[39mfor\u001b[39;00m i \u001b[39min\u001b[39;00m \u001b[39mrange\u001b[39m(\u001b[39mlen\u001b[39m(y_test)):\n\u001b[1;32m      <a href='vscode-notebook-cell:/home/dimi/Workdir/tell_the_time_NN/notebooks/cyclic_regression.ipynb#ch0000029?line=4'>5</a>\u001b[0m   hours \u001b[39m=\u001b[39m common_sense_distance(h_domain,y_test[\u001b[39m'\u001b[39m\u001b[39mhour\u001b[39m\u001b[39m'\u001b[39m]\u001b[39m.\u001b[39miloc[i], true_preds\u001b[39m.\u001b[39mT[\u001b[39m0\u001b[39m,i])\u001b[39m*\u001b[39m\u001b[39m60\u001b[39m\n\u001b[1;32m      <a href='vscode-notebook-cell:/home/dimi/Workdir/tell_the_time_NN/notebooks/cyclic_regression.ipynb#ch0000029?line=5'>6</a>\u001b[0m   mins \u001b[39m=\u001b[39m common_sense_distance(m_domain,y_test[\u001b[39m'\u001b[39m\u001b[39mminute\u001b[39m\u001b[39m'\u001b[39m]\u001b[39m.\u001b[39miloc[i], true_preds\u001b[39m.\u001b[39mT[\u001b[39m1\u001b[39m,i])\n",
      "\u001b[0;31mNameError\u001b[0m: name 'y_test' is not defined"
     ]
    }
   ],
   "source": [
    "h_domain = 12\n",
    "m_domain = 60\n",
    "distances= []\n",
    "for i in range(3000):\n",
    "  hours = common_sense_distance(h_domain,test_data_split, true_preds.T[0,i])*60\n",
    "  mins = common_sense_distance(m_domain,y_test['minute'].iloc[i], true_preds.T[1,i])\n",
    "  distances.append(hours+mins)\n",
    "\n",
    "print(f\"Common sense error in minutes: {np.mean(distances)}\")"
   ]
  },
  {
   "cell_type": "code",
   "execution_count": null,
   "metadata": {},
   "outputs": [],
   "source": []
  }
 ],
 "metadata": {
  "interpreter": {
   "hash": "3e3d537f7c047eb69d35d93db02503d7f99d5e4e21342e5ae19b3dd47808d68e"
  },
  "kernelspec": {
   "display_name": "Python 3.9.12 ('pytorch')",
   "language": "python",
   "name": "python3"
  },
  "language_info": {
   "codemirror_mode": {
    "name": "ipython",
    "version": 3
   },
   "file_extension": ".py",
   "mimetype": "text/x-python",
   "name": "python",
   "nbconvert_exporter": "python",
   "pygments_lexer": "ipython3",
   "version": "3.9.12"
  },
  "orig_nbformat": 4
 },
 "nbformat": 4,
 "nbformat_minor": 2
}
