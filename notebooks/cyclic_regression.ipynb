{
 "cells": [
  {
   "cell_type": "code",
   "execution_count": 1,
   "metadata": {},
   "outputs": [
    {
     "name": "stdout",
     "output_type": "stream",
     "text": [
      "cuda\n"
     ]
    }
   ],
   "source": [
    "import numpy as np\n",
    "import torch\n",
    "from torch import nn\n",
    "from torch.utils.data import Dataset, DataLoader, random_split\n",
    "import time\n",
    "import random\n",
    "from PIL import Image\n",
    "import matplotlib.pyplot as plt\n",
    "import pandas as pd\n",
    "\n",
    "device = \"cuda\" if torch.cuda.is_available() else \"cpu\"\n",
    "print(device)"
   ]
  },
  {
   "cell_type": "code",
   "execution_count": 2,
   "metadata": {},
   "outputs": [
    {
     "name": "stdout",
     "output_type": "stream",
     "text": [
      "data: torch.Size([18000, 1, 150, 150]), labels: torch.Size([18000, 2])\n"
     ]
    }
   ],
   "source": [
    "\"\"\"# Load data\n",
    "data = np.load(\"data/data_1.npy\")\n",
    "labels = np.load(\"data/labels_1.npy\")\n",
    "\n",
    "data = np.vstack((data,np.load(\"data/data_2.npy\")))\n",
    "labels = np.vstack((labels,np.load(\"data/labels_2.npy\")))\n",
    "\n",
    "data = np.vstack((data,np.load(\"data/data_3.npy\")))\n",
    "labels = np.vstack((labels,np.load(\"data/labels_3.npy\")))\n",
    "\n",
    "data = np.vstack((data,np.load(\"data/data_4.npy\")))\n",
    "labels = np.vstack((labels,np.load(\"data/labels_4.npy\")))\n",
    "\n",
    "data = np.vstack((data,np.load(\"data/data_5.npy\")))\n",
    "labels = np.vstack((labels,np.load(\"data/labels_5.npy\")))\"\"\"\n",
    "\n",
    "data = np.load(\"../data/images.npy\")/255.\n",
    "data = torch.FloatTensor(np.expand_dims(data,axis=1))\n",
    "data_permuts = torch.randperm(data.shape[0])\n",
    "data = data[data_permuts,:]\n",
    "labels = torch.FloatTensor(np.load(\"../data/labels.npy\"))\n",
    "labels = labels[data_permuts,:]\n",
    "\n",
    "print(f\"data: {data.shape}, labels: {labels.shape}\")"
   ]
  },
  {
   "cell_type": "code",
   "execution_count": null,
   "metadata": {},
   "outputs": [],
   "source": []
  },
  {
   "cell_type": "code",
   "execution_count": null,
   "metadata": {},
   "outputs": [],
   "source": []
  },
  {
   "cell_type": "markdown",
   "metadata": {},
   "source": [
    "<br/>\n",
    "<h3>Labels transformation to cyclical</h3>"
   ]
  },
  {
   "cell_type": "code",
   "execution_count": 3,
   "metadata": {},
   "outputs": [],
   "source": [
    "#we will use a dataframe to change the labels since it is more convenient.\n",
    "labels_df = pd.DataFrame(labels,columns=['hour', 'minute'])\n",
    "labels_df['h_cos'] = np.cos(2 * np.pi * labels_df[\"hour\"] / labels_df[\"hour\"].max())\n",
    "labels_df['h_sin'] = np.sin(2 * np.pi * labels_df[\"hour\"] / labels_df[\"hour\"].max())\n",
    "labels_df['m_cos'] = np.cos(2 * np.pi * labels_df[\"minute\"] / labels_df[\"minute\"].max())\n",
    "labels_df['m_sin'] = np.sin(2 * np.pi * labels_df[\"minute\"] / labels_df[\"minute\"].max())"
   ]
  },
  {
   "cell_type": "code",
   "execution_count": 4,
   "metadata": {},
   "outputs": [
    {
     "data": {
      "text/html": [
       "<div>\n",
       "<style scoped>\n",
       "    .dataframe tbody tr th:only-of-type {\n",
       "        vertical-align: middle;\n",
       "    }\n",
       "\n",
       "    .dataframe tbody tr th {\n",
       "        vertical-align: top;\n",
       "    }\n",
       "\n",
       "    .dataframe thead th {\n",
       "        text-align: right;\n",
       "    }\n",
       "</style>\n",
       "<table border=\"1\" class=\"dataframe\">\n",
       "  <thead>\n",
       "    <tr style=\"text-align: right;\">\n",
       "      <th></th>\n",
       "      <th>hour</th>\n",
       "      <th>minute</th>\n",
       "      <th>h_cos</th>\n",
       "      <th>h_sin</th>\n",
       "      <th>m_cos</th>\n",
       "      <th>m_sin</th>\n",
       "    </tr>\n",
       "  </thead>\n",
       "  <tbody>\n",
       "    <tr>\n",
       "      <th>0</th>\n",
       "      <td>5.0</td>\n",
       "      <td>21.0</td>\n",
       "      <td>-0.959493</td>\n",
       "      <td>2.817324e-01</td>\n",
       "      <td>-0.617525</td>\n",
       "      <td>0.786551</td>\n",
       "    </tr>\n",
       "    <tr>\n",
       "      <th>1</th>\n",
       "      <td>1.0</td>\n",
       "      <td>53.0</td>\n",
       "      <td>0.841254</td>\n",
       "      <td>5.406408e-01</td>\n",
       "      <td>0.802712</td>\n",
       "      <td>-0.596367</td>\n",
       "    </tr>\n",
       "    <tr>\n",
       "      <th>2</th>\n",
       "      <td>4.0</td>\n",
       "      <td>3.0</td>\n",
       "      <td>-0.654861</td>\n",
       "      <td>7.557495e-01</td>\n",
       "      <td>0.949398</td>\n",
       "      <td>0.314077</td>\n",
       "    </tr>\n",
       "    <tr>\n",
       "      <th>3</th>\n",
       "      <td>10.0</td>\n",
       "      <td>1.0</td>\n",
       "      <td>0.841254</td>\n",
       "      <td>-5.406405e-01</td>\n",
       "      <td>0.994335</td>\n",
       "      <td>0.106293</td>\n",
       "    </tr>\n",
       "    <tr>\n",
       "      <th>4</th>\n",
       "      <td>11.0</td>\n",
       "      <td>37.0</td>\n",
       "      <td>1.000000</td>\n",
       "      <td>6.516827e-07</td>\n",
       "      <td>-0.697632</td>\n",
       "      <td>-0.716457</td>\n",
       "    </tr>\n",
       "    <tr>\n",
       "      <th>...</th>\n",
       "      <td>...</td>\n",
       "      <td>...</td>\n",
       "      <td>...</td>\n",
       "      <td>...</td>\n",
       "      <td>...</td>\n",
       "      <td>...</td>\n",
       "    </tr>\n",
       "    <tr>\n",
       "      <th>17995</th>\n",
       "      <td>2.0</td>\n",
       "      <td>5.0</td>\n",
       "      <td>0.415415</td>\n",
       "      <td>9.096320e-01</td>\n",
       "      <td>0.861554</td>\n",
       "      <td>0.507666</td>\n",
       "    </tr>\n",
       "    <tr>\n",
       "      <th>17996</th>\n",
       "      <td>10.0</td>\n",
       "      <td>34.0</td>\n",
       "      <td>0.841254</td>\n",
       "      <td>-5.406405e-01</td>\n",
       "      <td>-0.887352</td>\n",
       "      <td>-0.461093</td>\n",
       "    </tr>\n",
       "    <tr>\n",
       "      <th>17997</th>\n",
       "      <td>4.0</td>\n",
       "      <td>29.0</td>\n",
       "      <td>-0.654861</td>\n",
       "      <td>7.557495e-01</td>\n",
       "      <td>-0.998583</td>\n",
       "      <td>0.053222</td>\n",
       "    </tr>\n",
       "    <tr>\n",
       "      <th>17998</th>\n",
       "      <td>8.0</td>\n",
       "      <td>6.0</td>\n",
       "      <td>-0.142315</td>\n",
       "      <td>-9.898215e-01</td>\n",
       "      <td>0.802712</td>\n",
       "      <td>0.596367</td>\n",
       "    </tr>\n",
       "    <tr>\n",
       "      <th>17999</th>\n",
       "      <td>5.0</td>\n",
       "      <td>20.0</td>\n",
       "      <td>-0.959493</td>\n",
       "      <td>2.817324e-01</td>\n",
       "      <td>-0.530421</td>\n",
       "      <td>0.847734</td>\n",
       "    </tr>\n",
       "  </tbody>\n",
       "</table>\n",
       "<p>18000 rows × 6 columns</p>\n",
       "</div>"
      ],
      "text/plain": [
       "       hour  minute     h_cos         h_sin     m_cos     m_sin\n",
       "0       5.0    21.0 -0.959493  2.817324e-01 -0.617525  0.786551\n",
       "1       1.0    53.0  0.841254  5.406408e-01  0.802712 -0.596367\n",
       "2       4.0     3.0 -0.654861  7.557495e-01  0.949398  0.314077\n",
       "3      10.0     1.0  0.841254 -5.406405e-01  0.994335  0.106293\n",
       "4      11.0    37.0  1.000000  6.516827e-07 -0.697632 -0.716457\n",
       "...     ...     ...       ...           ...       ...       ...\n",
       "17995   2.0     5.0  0.415415  9.096320e-01  0.861554  0.507666\n",
       "17996  10.0    34.0  0.841254 -5.406405e-01 -0.887352 -0.461093\n",
       "17997   4.0    29.0 -0.654861  7.557495e-01 -0.998583  0.053222\n",
       "17998   8.0     6.0 -0.142315 -9.898215e-01  0.802712  0.596367\n",
       "17999   5.0    20.0 -0.959493  2.817324e-01 -0.530421  0.847734\n",
       "\n",
       "[18000 rows x 6 columns]"
      ]
     },
     "execution_count": 4,
     "metadata": {},
     "output_type": "execute_result"
    }
   ],
   "source": [
    "labels_df"
   ]
  },
  {
   "cell_type": "code",
   "execution_count": 5,
   "metadata": {},
   "outputs": [],
   "source": [
    "labels_cycl = torch.FloatTensor(labels_df.iloc[:,2:].to_numpy())"
   ]
  },
  {
   "cell_type": "code",
   "execution_count": 6,
   "metadata": {},
   "outputs": [
    {
     "data": {
      "text/plain": [
       "tensor([[-0.9595,  0.2817, -0.6175,  0.7866],\n",
       "        [ 0.8413,  0.5406,  0.8027, -0.5964],\n",
       "        [-0.6549,  0.7557,  0.9494,  0.3141],\n",
       "        ...,\n",
       "        [-0.6549,  0.7557, -0.9986,  0.0532],\n",
       "        [-0.1423, -0.9898,  0.8027,  0.5964],\n",
       "        [-0.9595,  0.2817, -0.5304,  0.8477]])"
      ]
     },
     "execution_count": 6,
     "metadata": {},
     "output_type": "execute_result"
    }
   ],
   "source": [
    "labels_cycl"
   ]
  },
  {
   "cell_type": "markdown",
   "metadata": {},
   "source": [
    "<br/>\n",
    "<h3>Dataset creation</h3>"
   ]
  },
  {
   "cell_type": "code",
   "execution_count": 7,
   "metadata": {},
   "outputs": [],
   "source": [
    "class ClockDataset(Dataset):\n",
    "    \"\"\" Class used to create the pytorch DataLoaders.\n",
    "    \"\"\"\n",
    "    def __init__(self, data, targets):\n",
    "        self.data = data\n",
    "        self.targets = targets\n",
    "\n",
    "    def __getitem__(self, index):\n",
    "        x = self.data[index]\n",
    "        y = self.targets[index]\n",
    "        return x, y\n",
    "    \n",
    "    def __len__(self):\n",
    "        return len(self.data)"
   ]
  },
  {
   "cell_type": "code",
   "execution_count": 8,
   "metadata": {},
   "outputs": [],
   "source": [
    "# Create main dataset\n",
    "clock_dataset = ClockDataset(data, labels_cycl)\n",
    "train_data, test_data, val_data = random_split(clock_dataset, [14000,3000,1000])\n",
    "\n",
    "# Split dataset into train, test and validation sets\n",
    "train_data = DataLoader(train_data, batch_size=64, shuffle=True)\n",
    "test_data = DataLoader(test_data, batch_size=64, shuffle=True)\n",
    "val_data = DataLoader(val_data, batch_size=64, shuffle=True)"
   ]
  },
  {
   "cell_type": "code",
   "execution_count": 9,
   "metadata": {},
   "outputs": [
    {
     "name": "stdout",
     "output_type": "stream",
     "text": [
      "Shape of X [N, C, H, W]: torch.Size([64, 1, 150, 150])\n",
      "Shape of y: torch.Size([64, 4]) torch.float32\n"
     ]
    }
   ],
   "source": [
    "for X, y in train_data:\n",
    "    print(f\"Shape of X [N, C, H, W]: {X.shape}\")\n",
    "    print(f\"Shape of y: {y.shape} {y.dtype}\")\n",
    "    break"
   ]
  },
  {
   "cell_type": "markdown",
   "metadata": {},
   "source": [
    "<br/>\n",
    "<h3>Model creation</h3>"
   ]
  },
  {
   "cell_type": "code",
   "execution_count": 10,
   "metadata": {},
   "outputs": [],
   "source": [
    "class NN_regression(nn.Module):\n",
    "    \"\"\" Convolution model that returns one value as output.\n",
    "    \"\"\"\n",
    "    def __init__(self, input_channels, h, w, n_outputs):\n",
    "        super(NN_regression, self).__init__()\n",
    "\n",
    "        self.input_layer = nn.Sequential(\n",
    "            nn.Conv2d(input_channels, 16, kernel_size=5),\n",
    "            nn.ReLU(),\n",
    "            nn.BatchNorm2d(16)\n",
    "        )\n",
    "        self.hidden_layers = nn.Sequential(\n",
    "            \n",
    "            nn.Conv2d(16, 32, kernel_size=3),\n",
    "            nn.ReLU(),\n",
    "            nn.BatchNorm2d(32),\n",
    "            nn.Conv2d(32, 64, kernel_size=2),\n",
    "            nn.ReLU(),\n",
    "            nn.MaxPool2d(2),\n",
    "            nn.Conv2d(64, 128, kernel_size=2),\n",
    "            nn.MaxPool2d(2),\n",
    "            nn.Flatten()\n",
    "        )\n",
    "\n",
    "\n",
    "        self.output_layer = nn.Sequential(\n",
    "            nn.Linear(156800, 512),\n",
    "            nn.ReLU(),\n",
    "            nn.Linear(512, 256),\n",
    "            nn.ReLU(),\n",
    "            nn.Linear(256, n_outputs)\n",
    "            \n",
    "        )\n",
    "\n",
    "\n",
    "    def forward(self, x):\n",
    "        x = self.input_layer(x)\n",
    "        x = self.hidden_layers(x)\n",
    "        x = self.output_layer(x)\n",
    "        return x"
   ]
  },
  {
   "cell_type": "code",
   "execution_count": 11,
   "metadata": {},
   "outputs": [],
   "source": [
    "model = NN_regression(input_channels=1,h=150,w=150, n_outputs=4).to(device)\n",
    "loss = nn.MSELoss()\n",
    "optimizer = torch.optim.Adam(model.parameters(), lr=1e-3)"
   ]
  },
  {
   "cell_type": "code",
   "execution_count": 12,
   "metadata": {},
   "outputs": [],
   "source": [
    "def train(dataloader, model, loss_fn, optimizer):\n",
    "    model.train()\n",
    "    for X, y in dataloader:\n",
    "        X, y = X.to(device), y.to(device)\n",
    "        \n",
    "        # Compute prediction error\n",
    "        pred = model(X)\n",
    "        loss = loss_fn(pred, y)\n",
    "\n",
    "        # Backpropagation\n",
    "        optimizer.zero_grad()\n",
    "        loss.backward()\n",
    "        optimizer.step()\n",
    "\n",
    "    print(f\"Train loss: {loss:>7f}\")"
   ]
  },
  {
   "cell_type": "code",
   "execution_count": 13,
   "metadata": {},
   "outputs": [],
   "source": [
    "def test(dataloader, model, loss_fn):\n",
    "    model.eval()\n",
    "    num_batches = len(dataloader)\n",
    "    test_loss = 0.0\n",
    "    with torch.no_grad():\n",
    "        for X, y in dataloader:\n",
    "            X, y = X.to(device), y.to(device)\n",
    "            pred = model(X)\n",
    "            loss = loss_fn(pred, y)\n",
    "            test_loss += loss\n",
    "    loss /= num_batches\n",
    "    print(f\"Test avg loss: {test_loss:>8f} \\n\")"
   ]
  },
  {
   "cell_type": "code",
   "execution_count": 15,
   "metadata": {},
   "outputs": [
    {
     "name": "stdout",
     "output_type": "stream",
     "text": [
      "Epoch 1\n",
      "-------------------------------\n"
     ]
    }
   ],
   "source": [
    "epochs = 50\n",
    "start_time = time.time()\n",
    "for t in range(epochs):\n",
    "    print(f\"Epoch {t+1}\\n-------------------------------\")\n",
    "    train(train_data, model, loss, optimizer)\n",
    "    test(test_data, model, loss)\n",
    "end_time = time.time()"
   ]
  },
  {
   "cell_type": "code",
   "execution_count": null,
   "metadata": {},
   "outputs": [],
   "source": []
  }
 ],
 "metadata": {
  "interpreter": {
   "hash": "3e3d537f7c047eb69d35d93db02503d7f99d5e4e21342e5ae19b3dd47808d68e"
  },
  "kernelspec": {
   "display_name": "Python 3.9.12 ('pytorch')",
   "language": "python",
   "name": "python3"
  },
  "language_info": {
   "codemirror_mode": {
    "name": "ipython",
    "version": 3
   },
   "file_extension": ".py",
   "mimetype": "text/x-python",
   "name": "python",
   "nbconvert_exporter": "python",
   "pygments_lexer": "ipython3",
   "version": "3.9.12"
  },
  "orig_nbformat": 4
 },
 "nbformat": 4,
 "nbformat_minor": 2
}
